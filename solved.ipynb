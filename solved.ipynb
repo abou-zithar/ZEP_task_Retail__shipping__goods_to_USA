{
 "cells": [
  {
   "cell_type": "code",
   "execution_count": 93,
   "metadata": {},
   "outputs": [],
   "source": [
    "#import lib\n",
    "import math\n",
    "import pandas as pd \n",
    "import numpy as np\n",
    "import matplotlib.pyplot as plt\n",
    "from math import radians, sin, cos, acos"
   ]
  },
  {
   "cell_type": "code",
   "execution_count": 82,
   "metadata": {},
   "outputs": [],
   "source": [
    "# use pandas to read data \n",
    "filepath='A:\\After_collage\\Zep_task\\ZepDataSet.xlsx'\n",
    "data=pd.read_excel(filepath,parse_dates=['location_arrival_date','location_departure_date','origin_departure_date','train_arrival_date'])"
   ]
  },
  {
   "cell_type": "markdown",
   "metadata": {},
   "source": [
    "# **See the content of the data**"
   ]
  },
  {
   "cell_type": "code",
   "execution_count": 83,
   "metadata": {},
   "outputs": [
    {
     "data": {
      "text/html": [
       "<div>\n",
       "<style scoped>\n",
       "    .dataframe tbody tr th:only-of-type {\n",
       "        vertical-align: middle;\n",
       "    }\n",
       "\n",
       "    .dataframe tbody tr th {\n",
       "        vertical-align: top;\n",
       "    }\n",
       "\n",
       "    .dataframe thead th {\n",
       "        text-align: right;\n",
       "    }\n",
       "</style>\n",
       "<table border=\"1\" class=\"dataframe\">\n",
       "  <thead>\n",
       "    <tr style=\"text-align: right;\">\n",
       "      <th></th>\n",
       "      <th>tripuid</th>\n",
       "      <th>origin_location</th>\n",
       "      <th>destination_location</th>\n",
       "      <th>sighting_location</th>\n",
       "      <th>sighting_location_lat</th>\n",
       "      <th>sighting_location_lon</th>\n",
       "      <th>location_arrival_date</th>\n",
       "      <th>location_departure_date</th>\n",
       "      <th>origin_departure_date</th>\n",
       "      <th>train_arrival_date</th>\n",
       "    </tr>\n",
       "  </thead>\n",
       "  <tbody>\n",
       "    <tr>\n",
       "      <th>0</th>\n",
       "      <td>10054656400104001315859000566790000</td>\n",
       "      <td>STEHEIGHT, MI</td>\n",
       "      <td>VOLTZ, MO</td>\n",
       "      <td>STERLING HEIGHTS, MI</td>\n",
       "      <td>42.537908</td>\n",
       "      <td>-83.037650</td>\n",
       "      <td>2021-04-30 19:28:00</td>\n",
       "      <td>2021-04-30 19:28:00</td>\n",
       "      <td>2021-04-30 19:28:00</td>\n",
       "      <td>2021-05-03 12:21:00</td>\n",
       "    </tr>\n",
       "    <tr>\n",
       "      <th>1</th>\n",
       "      <td>10054656400104001315859000566790000</td>\n",
       "      <td>STEHEIGHT, MI</td>\n",
       "      <td>VOLTZ, MO</td>\n",
       "      <td>WARREN, MI</td>\n",
       "      <td>42.499210</td>\n",
       "      <td>-83.037413</td>\n",
       "      <td>2021-04-30 21:45:00</td>\n",
       "      <td>2021-04-30 21:46:00</td>\n",
       "      <td>2021-04-30 19:28:00</td>\n",
       "      <td>2021-05-03 12:21:00</td>\n",
       "    </tr>\n",
       "    <tr>\n",
       "      <th>2</th>\n",
       "      <td>10054656400104001315859000566790000</td>\n",
       "      <td>STEHEIGHT, MI</td>\n",
       "      <td>VOLTZ, MO</td>\n",
       "      <td>DETROIT STERLING, MI</td>\n",
       "      <td>42.572998</td>\n",
       "      <td>-83.040002</td>\n",
       "      <td>2021-05-01 00:00:00</td>\n",
       "      <td>2021-05-01 12:30:00</td>\n",
       "      <td>2021-04-30 19:28:00</td>\n",
       "      <td>2021-05-03 12:21:00</td>\n",
       "    </tr>\n",
       "    <tr>\n",
       "      <th>3</th>\n",
       "      <td>10054656400104001315859000566790000</td>\n",
       "      <td>STEHEIGHT, MI</td>\n",
       "      <td>VOLTZ, MO</td>\n",
       "      <td>DETROIT NORTH YARD, MI</td>\n",
       "      <td>42.406106</td>\n",
       "      <td>-83.037049</td>\n",
       "      <td>2021-05-01 13:30:00</td>\n",
       "      <td>2021-05-01 15:30:00</td>\n",
       "      <td>2021-04-30 19:28:00</td>\n",
       "      <td>2021-05-03 12:21:00</td>\n",
       "    </tr>\n",
       "    <tr>\n",
       "      <th>4</th>\n",
       "      <td>10054656400104001315859000566790000</td>\n",
       "      <td>STEHEIGHT, MI</td>\n",
       "      <td>VOLTZ, MO</td>\n",
       "      <td>OAKWOOD, MI</td>\n",
       "      <td>42.278053</td>\n",
       "      <td>-83.170834</td>\n",
       "      <td>2021-05-01 18:17:00</td>\n",
       "      <td>2021-05-01 18:17:00</td>\n",
       "      <td>2021-04-30 19:28:00</td>\n",
       "      <td>2021-05-03 12:21:00</td>\n",
       "    </tr>\n",
       "  </tbody>\n",
       "</table>\n",
       "</div>"
      ],
      "text/plain": [
       "                               tripuid origin_location destination_location  \\\n",
       "0  10054656400104001315859000566790000   STEHEIGHT, MI            VOLTZ, MO   \n",
       "1  10054656400104001315859000566790000   STEHEIGHT, MI            VOLTZ, MO   \n",
       "2  10054656400104001315859000566790000   STEHEIGHT, MI            VOLTZ, MO   \n",
       "3  10054656400104001315859000566790000   STEHEIGHT, MI            VOLTZ, MO   \n",
       "4  10054656400104001315859000566790000   STEHEIGHT, MI            VOLTZ, MO   \n",
       "\n",
       "        sighting_location  sighting_location_lat  sighting_location_lon  \\\n",
       "0    STERLING HEIGHTS, MI              42.537908             -83.037650   \n",
       "1              WARREN, MI              42.499210             -83.037413   \n",
       "2    DETROIT STERLING, MI              42.572998             -83.040002   \n",
       "3  DETROIT NORTH YARD, MI              42.406106             -83.037049   \n",
       "4             OAKWOOD, MI              42.278053             -83.170834   \n",
       "\n",
       "  location_arrival_date location_departure_date origin_departure_date  \\\n",
       "0   2021-04-30 19:28:00     2021-04-30 19:28:00   2021-04-30 19:28:00   \n",
       "1   2021-04-30 21:45:00     2021-04-30 21:46:00   2021-04-30 19:28:00   \n",
       "2   2021-05-01 00:00:00     2021-05-01 12:30:00   2021-04-30 19:28:00   \n",
       "3   2021-05-01 13:30:00     2021-05-01 15:30:00   2021-04-30 19:28:00   \n",
       "4   2021-05-01 18:17:00     2021-05-01 18:17:00   2021-04-30 19:28:00   \n",
       "\n",
       "   train_arrival_date  \n",
       "0 2021-05-03 12:21:00  \n",
       "1 2021-05-03 12:21:00  \n",
       "2 2021-05-03 12:21:00  \n",
       "3 2021-05-03 12:21:00  \n",
       "4 2021-05-03 12:21:00  "
      ]
     },
     "execution_count": 83,
     "metadata": {},
     "output_type": "execute_result"
    }
   ],
   "source": [
    "data.head()"
   ]
  },
  {
   "cell_type": "code",
   "execution_count": 84,
   "metadata": {},
   "outputs": [
    {
     "data": {
      "text/html": [
       "<div>\n",
       "<style scoped>\n",
       "    .dataframe tbody tr th:only-of-type {\n",
       "        vertical-align: middle;\n",
       "    }\n",
       "\n",
       "    .dataframe tbody tr th {\n",
       "        vertical-align: top;\n",
       "    }\n",
       "\n",
       "    .dataframe thead th {\n",
       "        text-align: right;\n",
       "    }\n",
       "</style>\n",
       "<table border=\"1\" class=\"dataframe\">\n",
       "  <thead>\n",
       "    <tr style=\"text-align: right;\">\n",
       "      <th></th>\n",
       "      <th>tripuid</th>\n",
       "      <th>origin_location</th>\n",
       "      <th>destination_location</th>\n",
       "      <th>sighting_location</th>\n",
       "      <th>sighting_location_lat</th>\n",
       "      <th>sighting_location_lon</th>\n",
       "      <th>location_arrival_date</th>\n",
       "      <th>location_departure_date</th>\n",
       "      <th>origin_departure_date</th>\n",
       "      <th>train_arrival_date</th>\n",
       "    </tr>\n",
       "  </thead>\n",
       "  <tbody>\n",
       "    <tr>\n",
       "      <th>1605</th>\n",
       "      <td>10063453900023001315859000566790000</td>\n",
       "      <td>STEHEIGHT, MI</td>\n",
       "      <td>VOLTZ, MO</td>\n",
       "      <td>CLAPPER, MO</td>\n",
       "      <td>39.588213</td>\n",
       "      <td>-91.845766</td>\n",
       "      <td>2020-08-13 04:24:00</td>\n",
       "      <td>2020-08-13 04:24:00</td>\n",
       "      <td>2020-08-11 04:24:00</td>\n",
       "      <td>2020-08-13 13:24:00</td>\n",
       "    </tr>\n",
       "    <tr>\n",
       "      <th>1606</th>\n",
       "      <td>10063453900023001315859000566790000</td>\n",
       "      <td>STEHEIGHT, MI</td>\n",
       "      <td>VOLTZ, MO</td>\n",
       "      <td>MOBERLY, MO</td>\n",
       "      <td>39.419797</td>\n",
       "      <td>-92.436711</td>\n",
       "      <td>2020-08-13 05:23:00</td>\n",
       "      <td>2020-08-13 05:43:00</td>\n",
       "      <td>2020-08-11 04:24:00</td>\n",
       "      <td>2020-08-13 13:24:00</td>\n",
       "    </tr>\n",
       "    <tr>\n",
       "      <th>1607</th>\n",
       "      <td>10063453900023001315859000566790000</td>\n",
       "      <td>STEHEIGHT, MI</td>\n",
       "      <td>VOLTZ, MO</td>\n",
       "      <td>CLIFTON HILL, MO</td>\n",
       "      <td>39.438175</td>\n",
       "      <td>-92.665850</td>\n",
       "      <td>2020-08-13 07:01:00</td>\n",
       "      <td>2020-08-13 07:01:00</td>\n",
       "      <td>2020-08-11 04:24:00</td>\n",
       "      <td>2020-08-13 13:24:00</td>\n",
       "    </tr>\n",
       "    <tr>\n",
       "      <th>1608</th>\n",
       "      <td>10063453900023001315859000566790000</td>\n",
       "      <td>STEHEIGHT, MI</td>\n",
       "      <td>VOLTZ, MO</td>\n",
       "      <td>MISSOURI CITY, MO</td>\n",
       "      <td>39.223788</td>\n",
       "      <td>-94.321008</td>\n",
       "      <td>2020-08-13 12:25:00</td>\n",
       "      <td>2020-08-13 12:25:00</td>\n",
       "      <td>2020-08-11 04:24:00</td>\n",
       "      <td>2020-08-13 13:24:00</td>\n",
       "    </tr>\n",
       "    <tr>\n",
       "      <th>1609</th>\n",
       "      <td>10063453900023001315859000566790000</td>\n",
       "      <td>STEHEIGHT, MI</td>\n",
       "      <td>VOLTZ, MO</td>\n",
       "      <td>VOLTZ, MO</td>\n",
       "      <td>39.186341</td>\n",
       "      <td>-94.429775</td>\n",
       "      <td>2020-08-13 13:24:00</td>\n",
       "      <td>2020-08-13 16:30:00</td>\n",
       "      <td>2020-08-11 04:24:00</td>\n",
       "      <td>2020-08-13 13:24:00</td>\n",
       "    </tr>\n",
       "  </tbody>\n",
       "</table>\n",
       "</div>"
      ],
      "text/plain": [
       "                                  tripuid origin_location  \\\n",
       "1605  10063453900023001315859000566790000   STEHEIGHT, MI   \n",
       "1606  10063453900023001315859000566790000   STEHEIGHT, MI   \n",
       "1607  10063453900023001315859000566790000   STEHEIGHT, MI   \n",
       "1608  10063453900023001315859000566790000   STEHEIGHT, MI   \n",
       "1609  10063453900023001315859000566790000   STEHEIGHT, MI   \n",
       "\n",
       "     destination_location  sighting_location  sighting_location_lat  \\\n",
       "1605            VOLTZ, MO        CLAPPER, MO              39.588213   \n",
       "1606            VOLTZ, MO        MOBERLY, MO              39.419797   \n",
       "1607            VOLTZ, MO   CLIFTON HILL, MO              39.438175   \n",
       "1608            VOLTZ, MO  MISSOURI CITY, MO              39.223788   \n",
       "1609            VOLTZ, MO          VOLTZ, MO              39.186341   \n",
       "\n",
       "      sighting_location_lon location_arrival_date location_departure_date  \\\n",
       "1605             -91.845766   2020-08-13 04:24:00     2020-08-13 04:24:00   \n",
       "1606             -92.436711   2020-08-13 05:23:00     2020-08-13 05:43:00   \n",
       "1607             -92.665850   2020-08-13 07:01:00     2020-08-13 07:01:00   \n",
       "1608             -94.321008   2020-08-13 12:25:00     2020-08-13 12:25:00   \n",
       "1609             -94.429775   2020-08-13 13:24:00     2020-08-13 16:30:00   \n",
       "\n",
       "     origin_departure_date  train_arrival_date  \n",
       "1605   2020-08-11 04:24:00 2020-08-13 13:24:00  \n",
       "1606   2020-08-11 04:24:00 2020-08-13 13:24:00  \n",
       "1607   2020-08-11 04:24:00 2020-08-13 13:24:00  \n",
       "1608   2020-08-11 04:24:00 2020-08-13 13:24:00  \n",
       "1609   2020-08-11 04:24:00 2020-08-13 13:24:00  "
      ]
     },
     "execution_count": 84,
     "metadata": {},
     "output_type": "execute_result"
    }
   ],
   "source": [
    "data.tail()"
   ]
  },
  {
   "cell_type": "markdown",
   "metadata": {},
   "source": [
    "# **Data Preprocessing**"
   ]
  },
  {
   "cell_type": "markdown",
   "metadata": {},
   "source": [
    "## **get the distane between the places that the truck seen in**"
   ]
  },
  {
   "cell_type": "code",
   "execution_count": 85,
   "metadata": {},
   "outputs": [],
   "source": [
    "def get_distance(slat,slon,elat,elon):\n",
    "  dist = 6371.01 * acos(sin(slat)*sin(elat) + cos(slat)*cos(elat)*cos(slon - elon))\n",
    "  return dist"
   ]
  },
  {
   "cell_type": "code",
   "execution_count": 89,
   "metadata": {},
   "outputs": [],
   "source": [
    "truck=data['tripuid']\n",
    "count=0\n",
    "trip_distance=[]\n",
    "truck_id=[]\n",
    "for i in range(0,len(truck)):\n",
    "  if i<len(truck)-1:\n",
    "    if truck[i] == truck[i+1]:\n",
    "      trip_distance.append(get_distance(data['sighting_location_lat'][i],data['sighting_location_lon'][i],data['sighting_location_lat'][i+1],data['sighting_location_lon'][i+1])) \n",
    "      truck_id.append(truck[i])\n",
    "  else:\n",
    "    break"
   ]
  },
  {
   "cell_type": "code",
   "execution_count": 90,
   "metadata": {},
   "outputs": [
    {
     "name": "stdout",
     "output_type": "stream",
     "text": [
      "we have total of 1543 distance  and total of 1543 truck id with repeation  \n"
     ]
    }
   ],
   "source": [
    "print('we have total of {} distance  and total of {} truck id with repeation  '.format(len(trip_distance),len(truck_id)))"
   ]
  },
  {
   "cell_type": "markdown",
   "metadata": {},
   "source": [
    "# **get the distance of the Full trip**"
   ]
  },
  {
   "cell_type": "code",
   "execution_count": 91,
   "metadata": {},
   "outputs": [],
   "source": [
    "\n",
    "total_trip_distance = [i+1 for i in range(67)]\n",
    "index=0\n",
    "\n",
    "for i in range(0,len(truck_id)):\n",
    "  if i<len(truck_id)-1:\n",
    "      if truck_id[i] == truck_id[i+1]:\n",
    "        total_trip_distance[index]=trip_distance[i]+trip_distance[i+1]\n",
    "      else:\n",
    "        index+=1"
   ]
  },
  {
   "cell_type": "code",
   "execution_count": null,
   "metadata": {},
   "outputs": [
    {
     "name": "stdout",
     "output_type": "stream",
     "text": [
      "we have total of 67 trip with the distance of all of them  \n"
     ]
    }
   ],
   "source": [
    "print('we have total of {} trip with the distance of all of them  '.format(len(total_trip_distance)))"
   ]
  },
  {
   "cell_type": "markdown",
   "metadata": {},
   "source": [
    "# Add the Full Trip distance to the data"
   ]
  },
  {
   "cell_type": "code",
   "execution_count": null,
   "metadata": {},
   "outputs": [],
   "source": [
    "counter=0\n",
    "FullDistance=[]\n",
    "data['FullDistance']= data['tripuid'] * 0\n",
    "for i in range(0,len(data['tripuid'])):\n",
    "  if i<len(data['tripuid'])-1:\n",
    "      if data['tripuid'][i] == data['tripuid'][i+1]:\n",
    "        FullDistance.append(total_trip_distance[counter])\n",
    "        \n",
    "      else:\n",
    "       \n",
    "\n",
    "        counter+=1\n",
    "        FullDistance.append(total_trip_distance[counter])\n",
    "\n",
    "\n",
    "FullDistance.append(FullDistance[-1])\n",
    "data['FullDistance']=FullDistance"
   ]
  },
  {
   "cell_type": "markdown",
   "metadata": {},
   "source": [
    "# see more detail about data "
   ]
  },
  {
   "cell_type": "code",
   "execution_count": null,
   "metadata": {},
   "outputs": [
    {
     "data": {
      "text/plain": [
       "array(['STEHEIGHT, MI'], dtype=object)"
      ]
     },
     "execution_count": 11,
     "metadata": {},
     "output_type": "execute_result"
    }
   ],
   "source": [
    "data['origin_location'].unique()"
   ]
  },
  {
   "cell_type": "code",
   "execution_count": null,
   "metadata": {},
   "outputs": [
    {
     "data": {
      "text/plain": [
       "array(['VOLTZ, MO'], dtype=object)"
      ]
     },
     "execution_count": 12,
     "metadata": {},
     "output_type": "execute_result"
    }
   ],
   "source": [
    "data['destination_location'].unique()"
   ]
  },
  {
   "cell_type": "code",
   "execution_count": null,
   "metadata": {},
   "outputs": [],
   "source": [
    "data.drop(['destination_location','origin_location'],inplace=True,axis=1)\n",
    "# drop this two colunms "
   ]
  },
  {
   "cell_type": "markdown",
   "metadata": {},
   "source": [
    "#### see if there a duplications in data "
   ]
  },
  {
   "cell_type": "code",
   "execution_count": null,
   "metadata": {},
   "outputs": [
    {
     "data": {
      "text/plain": [
       "2"
      ]
     },
     "execution_count": 14,
     "metadata": {},
     "output_type": "execute_result"
    }
   ],
   "source": [
    "data.duplicated().sum()"
   ]
  },
  {
   "cell_type": "code",
   "execution_count": null,
   "metadata": {},
   "outputs": [],
   "source": [
    "data.drop_duplicates(inplace=True)"
   ]
  },
  {
   "cell_type": "code",
   "execution_count": null,
   "metadata": {},
   "outputs": [
    {
     "data": {
      "text/plain": [
       "(1608, 9)"
      ]
     },
     "execution_count": 16,
     "metadata": {},
     "output_type": "execute_result"
    }
   ],
   "source": [
    "data.shape"
   ]
  },
  {
   "cell_type": "code",
   "execution_count": null,
   "metadata": {},
   "outputs": [
    {
     "name": "stdout",
     "output_type": "stream",
     "text": [
      "<class 'pandas.core.frame.DataFrame'>\n",
      "Int64Index: 1608 entries, 0 to 1609\n",
      "Data columns (total 9 columns):\n",
      " #   Column                   Non-Null Count  Dtype         \n",
      "---  ------                   --------------  -----         \n",
      " 0   tripuid                  1608 non-null   object        \n",
      " 1   sighting_location        1608 non-null   object        \n",
      " 2   sighting_location_lat    1608 non-null   float64       \n",
      " 3   sighting_location_lon    1608 non-null   float64       \n",
      " 4   location_arrival_date    1608 non-null   datetime64[ns]\n",
      " 5   location_departure_date  1608 non-null   datetime64[ns]\n",
      " 6   origin_departure_date    1608 non-null   datetime64[ns]\n",
      " 7   train_arrival_date       1608 non-null   datetime64[ns]\n",
      " 8   FullDistance             1608 non-null   float64       \n",
      "dtypes: datetime64[ns](4), float64(3), object(2)\n",
      "memory usage: 125.6+ KB\n"
     ]
    }
   ],
   "source": [
    "data.info()"
   ]
  },
  {
   "cell_type": "markdown",
   "metadata": {},
   "source": [
    "#### as we can see the data has no nulls and the data is datatime64 type "
   ]
  },
  {
   "cell_type": "markdown",
   "metadata": {},
   "source": [
    "# get the full trip time"
   ]
  },
  {
   "cell_type": "code",
   "execution_count": null,
   "metadata": {},
   "outputs": [],
   "source": [
    "def getDeltaOfTiem(feature_from,feature_to):\n",
    "  # create a column with timedelta as total hours, as a float type\n",
    "  data['tot_hour_diff'] = (data[feature_from] - data[feature_to]) / pd.Timedelta(hours=1)\n",
    "\n",
    "getDeltaOfTiem('train_arrival_date','origin_departure_date')"
   ]
  },
  {
   "cell_type": "code",
   "execution_count": null,
   "metadata": {},
   "outputs": [
    {
     "data": {
      "text/plain": [
       "array([ 64.88333333, 102.28333333,  73.98333333,  92.2       ,\n",
       "        66.06666667,  74.5       ,  64.73333333,  83.91666667,\n",
       "        62.6       ,  82.71666667,  60.63333333, 133.76666667,\n",
       "       112.25      ,  78.98333333,  80.46666667,  64.2       ,\n",
       "        73.93333333,  76.33333333,  94.61666667,  90.28333333,\n",
       "        91.51666667, 107.61666667,  76.76666667,  84.13333333,\n",
       "        78.        ,  66.71666667,  79.98333333,  71.18333333,\n",
       "        62.01666667,  56.41666667,  84.25      , 111.13333333,\n",
       "       113.9       ,  92.8       , 270.56666667,  90.35      ,\n",
       "        51.88333333,  87.93333333,  76.25      ,  58.6       ,\n",
       "        53.61666667,  84.31666667,  68.58333333, 106.48333333,\n",
       "        68.8       ,  78.71666667,  78.55      , 101.01666667,\n",
       "       103.06666667,  77.55      ,  76.03333333,  68.96666667,\n",
       "        72.41666667, 103.05      , 119.8       ,  66.8       ,\n",
       "        52.86666667, 100.73333333,  83.21666667,  83.73333333,\n",
       "        79.4       ,  72.75      ,  64.35      ,  66.9       ,\n",
       "        57.        ])"
      ]
     },
     "execution_count": 19,
     "metadata": {},
     "output_type": "execute_result"
    }
   ],
   "source": [
    "data['tot_hour_diff'].unique()"
   ]
  },
  {
   "cell_type": "code",
   "execution_count": null,
   "metadata": {},
   "outputs": [
    {
     "data": {
      "text/html": [
       "<div>\n",
       "<style scoped>\n",
       "    .dataframe tbody tr th:only-of-type {\n",
       "        vertical-align: middle;\n",
       "    }\n",
       "\n",
       "    .dataframe tbody tr th {\n",
       "        vertical-align: top;\n",
       "    }\n",
       "\n",
       "    .dataframe thead th {\n",
       "        text-align: right;\n",
       "    }\n",
       "</style>\n",
       "<table border=\"1\" class=\"dataframe\">\n",
       "  <thead>\n",
       "    <tr style=\"text-align: right;\">\n",
       "      <th></th>\n",
       "      <th>sighting_location_lat</th>\n",
       "      <th>sighting_location_lon</th>\n",
       "      <th>FullDistance</th>\n",
       "      <th>tot_hour_diff</th>\n",
       "    </tr>\n",
       "  </thead>\n",
       "  <tbody>\n",
       "    <tr>\n",
       "      <th>count</th>\n",
       "      <td>1608.000000</td>\n",
       "      <td>1608.000000</td>\n",
       "      <td>1608.000000</td>\n",
       "      <td>1608.000000</td>\n",
       "    </tr>\n",
       "    <tr>\n",
       "      <th>mean</th>\n",
       "      <td>40.833995</td>\n",
       "      <td>-87.005605</td>\n",
       "      <td>1320.429988</td>\n",
       "      <td>84.812697</td>\n",
       "    </tr>\n",
       "    <tr>\n",
       "      <th>std</th>\n",
       "      <td>1.155348</td>\n",
       "      <td>3.624933</td>\n",
       "      <td>456.999441</td>\n",
       "      <td>36.014323</td>\n",
       "    </tr>\n",
       "    <tr>\n",
       "      <th>min</th>\n",
       "      <td>38.631000</td>\n",
       "      <td>-94.461348</td>\n",
       "      <td>249.040385</td>\n",
       "      <td>51.883333</td>\n",
       "    </tr>\n",
       "    <tr>\n",
       "      <th>25%</th>\n",
       "      <td>39.847396</td>\n",
       "      <td>-88.944443</td>\n",
       "      <td>1329.469874</td>\n",
       "      <td>66.800000</td>\n",
       "    </tr>\n",
       "    <tr>\n",
       "      <th>50%</th>\n",
       "      <td>40.758986</td>\n",
       "      <td>-86.067327</td>\n",
       "      <td>1329.469874</td>\n",
       "      <td>76.333333</td>\n",
       "    </tr>\n",
       "    <tr>\n",
       "      <th>75%</th>\n",
       "      <td>42.278053</td>\n",
       "      <td>-83.170834</td>\n",
       "      <td>1329.469874</td>\n",
       "      <td>90.350000</td>\n",
       "    </tr>\n",
       "    <tr>\n",
       "      <th>max</th>\n",
       "      <td>42.572998</td>\n",
       "      <td>-83.037049</td>\n",
       "      <td>5467.790510</td>\n",
       "      <td>270.566667</td>\n",
       "    </tr>\n",
       "  </tbody>\n",
       "</table>\n",
       "</div>"
      ],
      "text/plain": [
       "       sighting_location_lat  sighting_location_lon  FullDistance  \\\n",
       "count            1608.000000            1608.000000   1608.000000   \n",
       "mean               40.833995             -87.005605   1320.429988   \n",
       "std                 1.155348               3.624933    456.999441   \n",
       "min                38.631000             -94.461348    249.040385   \n",
       "25%                39.847396             -88.944443   1329.469874   \n",
       "50%                40.758986             -86.067327   1329.469874   \n",
       "75%                42.278053             -83.170834   1329.469874   \n",
       "max                42.572998             -83.037049   5467.790510   \n",
       "\n",
       "       tot_hour_diff  \n",
       "count    1608.000000  \n",
       "mean       84.812697  \n",
       "std        36.014323  \n",
       "min        51.883333  \n",
       "25%        66.800000  \n",
       "50%        76.333333  \n",
       "75%        90.350000  \n",
       "max       270.566667  "
      ]
     },
     "execution_count": 20,
     "metadata": {},
     "output_type": "execute_result"
    }
   ],
   "source": [
    "data.describe()"
   ]
  },
  {
   "cell_type": "markdown",
   "metadata": {},
   "source": [
    "# recreate time and date and change there Datatype"
   ]
  },
  {
   "cell_type": "code",
   "execution_count": null,
   "metadata": {},
   "outputs": [],
   "source": [
    "def recreateTimeAndDateFeatures(Feature):\n",
    "  data['Y_'+Feature] = [d.year for d in data[Feature]]\n",
    "  data['month_'+Feature] = [d.month for d in data[Feature]]\n",
    "  data['D_'+Feature] = [d.day for d in data[Feature]]\n",
    "  data['H_'+Feature] = [d.hour for d in data[Feature]]\n",
    "  data['M_'+Feature] = [d.minute for d in data[Feature]]\n",
    "\n",
    "\n",
    "\n",
    "recreateTimeAndDateFeatures('location_arrival_date')\n",
    "recreateTimeAndDateFeatures('location_departure_date')\n",
    "recreateTimeAndDateFeatures('origin_departure_date')\n",
    "recreateTimeAndDateFeatures('train_arrival_date')\n",
    "\n",
    "data.drop(['location_arrival_date','location_departure_date','origin_departure_date','train_arrival_date'],inplace=True,axis=1)"
   ]
  },
  {
   "cell_type": "code",
   "execution_count": null,
   "metadata": {},
   "outputs": [
    {
     "name": "stdout",
     "output_type": "stream",
     "text": [
      "<class 'pandas.core.frame.DataFrame'>\n",
      "Int64Index: 1608 entries, 0 to 1609\n",
      "Data columns (total 26 columns):\n",
      " #   Column                         Non-Null Count  Dtype  \n",
      "---  ------                         --------------  -----  \n",
      " 0   tripuid                        1608 non-null   object \n",
      " 1   sighting_location              1608 non-null   object \n",
      " 2   sighting_location_lat          1608 non-null   float64\n",
      " 3   sighting_location_lon          1608 non-null   float64\n",
      " 4   FullDistance                   1608 non-null   float64\n",
      " 5   tot_hour_diff                  1608 non-null   float64\n",
      " 6   Y_location_arrival_date        1608 non-null   int64  \n",
      " 7   month_location_arrival_date    1608 non-null   int64  \n",
      " 8   D_location_arrival_date        1608 non-null   int64  \n",
      " 9   H_location_arrival_date        1608 non-null   int64  \n",
      " 10  M_location_arrival_date        1608 non-null   int64  \n",
      " 11  Y_location_departure_date      1608 non-null   int64  \n",
      " 12  month_location_departure_date  1608 non-null   int64  \n",
      " 13  D_location_departure_date      1608 non-null   int64  \n",
      " 14  H_location_departure_date      1608 non-null   int64  \n",
      " 15  M_location_departure_date      1608 non-null   int64  \n",
      " 16  Y_origin_departure_date        1608 non-null   int64  \n",
      " 17  month_origin_departure_date    1608 non-null   int64  \n",
      " 18  D_origin_departure_date        1608 non-null   int64  \n",
      " 19  H_origin_departure_date        1608 non-null   int64  \n",
      " 20  M_origin_departure_date        1608 non-null   int64  \n",
      " 21  Y_train_arrival_date           1608 non-null   int64  \n",
      " 22  month_train_arrival_date       1608 non-null   int64  \n",
      " 23  D_train_arrival_date           1608 non-null   int64  \n",
      " 24  H_train_arrival_date           1608 non-null   int64  \n",
      " 25  M_train_arrival_date           1608 non-null   int64  \n",
      "dtypes: float64(4), int64(20), object(2)\n",
      "memory usage: 339.2+ KB\n"
     ]
    }
   ],
   "source": [
    "data.info()"
   ]
  },
  {
   "cell_type": "markdown",
   "metadata": {},
   "source": [
    "<h1> Visualization⌛"
   ]
  },
  {
   "cell_type": "code",
   "execution_count": null,
   "metadata": {},
   "outputs": [],
   "source": [
    "import seaborn as sns"
   ]
  },
  {
   "cell_type": "code",
   "execution_count": null,
   "metadata": {},
   "outputs": [
    {
     "data": {
      "text/plain": [
       "<seaborn.axisgrid.FacetGrid at 0x25eb82771f0>"
      ]
     },
     "execution_count": 24,
     "metadata": {},
     "output_type": "execute_result"
    },
    {
     "data": {
      "image/png": "[encoded data removed]",
      "text/plain": [
       "<Figure size 360x360 with 1 Axes>"
      ]
     },
     "metadata": {
      "needs_background": "light"
     },
     "output_type": "display_data"
    }
   ],
   "source": [
    "sns.displot(data=data, x=\"Y_origin_departure_date\", kind=\"kde\")"
   ]
  },
  {
   "cell_type": "markdown",
   "metadata": {},
   "source": [
    "## year 2021 was the year with the most trips"
   ]
  },
  {
   "cell_type": "code",
   "execution_count": null,
   "metadata": {},
   "outputs": [
    {
     "data": {
      "text/plain": [
       "<seaborn.axisgrid.FacetGrid at 0x25ed1b06b20>"
      ]
     },
     "execution_count": 25,
     "metadata": {},
     "output_type": "execute_result"
    },
    {
     "data": {
      "image/png": "[encoded data removed]",
      "text/plain": [
       "<Figure size 360x360 with 1 Axes>"
      ]
     },
     "metadata": {
      "needs_background": "light"
     },
     "output_type": "display_data"
    },
    {
     "data": {
      "image/png": "[encoded data removed]",
      "text/plain": [
       "<Figure size 360x360 with 1 Axes>"
      ]
     },
     "metadata": {
      "needs_background": "light"
     },
     "output_type": "display_data"
    }
   ],
   "source": [
    "sns.displot(data=data, x=\"D_origin_departure_date\")\n",
    "sns.displot(data=data, x=\"D_train_arrival_date\")"
   ]
  },
  {
   "cell_type": "markdown",
   "metadata": {},
   "source": [
    "# the busy days at the mouth are the start and the end of the mouth "
   ]
  },
  {
   "cell_type": "code",
   "execution_count": null,
   "metadata": {},
   "outputs": [
    {
     "data": {
      "text/plain": [
       "<AxesSubplot:xlabel='H_train_arrival_date', ylabel='D_train_arrival_date'>"
      ]
     },
     "execution_count": 26,
     "metadata": {},
     "output_type": "execute_result"
    },
    {
     "data": {
      "image/png": "[encoded data removed]",
      "text/plain": [
       "<Figure size 432x288 with 1 Axes>"
      ]
     },
     "metadata": {
      "needs_background": "light"
     },
     "output_type": "display_data"
    }
   ],
   "source": [
    "sns.histplot(data=data,x='H_train_arrival_date',y='D_train_arrival_date')"
   ]
  },
  {
   "cell_type": "markdown",
   "metadata": {},
   "source": [
    "#### the days in the middel of the month (15) is almost empty on the other hand the days on the start of the month (1:12) and the end (20:30) is very busy  "
   ]
  },
  {
   "cell_type": "code",
   "execution_count": null,
   "metadata": {},
   "outputs": [
    {
     "data": {
      "text/plain": [
       "<AxesSubplot:xlabel='tot_hour_diff'>"
      ]
     },
     "execution_count": 27,
     "metadata": {},
     "output_type": "execute_result"
    },
    {
     "data": {
      "image/png": "[encoded data removed]",
      "text/plain": [
       "<Figure size 432x288 with 1 Axes>"
      ]
     },
     "metadata": {
      "needs_background": "light"
     },
     "output_type": "display_data"
    }
   ],
   "source": [
    "sns.boxplot(x=data['tot_hour_diff'])"
   ]
  },
  {
   "cell_type": "code",
   "execution_count": null,
   "metadata": {},
   "outputs": [
    {
     "name": "stdout",
     "output_type": "stream",
     "text": [
      "the mean time that each trip tack is  84.81269693200663\n"
     ]
    },
    {
     "data": {
      "image/png": "[encoded data removed]",
      "text/plain": [
       "<Figure size 432x288 with 1 Axes>"
      ]
     },
     "metadata": {
      "needs_background": "light"
     },
     "output_type": "display_data"
    }
   ],
   "source": [
    "sns.histplot(x=data['tot_hour_diff'],kde=True)\n",
    "print('the mean time that each trip tack is ',data['tot_hour_diff'].mean())"
   ]
  },
  {
   "cell_type": "markdown",
   "metadata": {},
   "source": [
    "<h1> the mean of the trip time is 84.81 hour and the range of all trips is 50 to 105 "
   ]
  },
  {
   "cell_type": "code",
   "execution_count": null,
   "metadata": {},
   "outputs": [
    {
     "name": "stdout",
     "output_type": "stream",
     "text": [
      "the mean time that each trip tack is  1320.4299879889609\n"
     ]
    },
    {
     "data": {
      "image/png": "[encoded data removed]",
      "text/plain": [
       "<Figure size 432x288 with 1 Axes>"
      ]
     },
     "metadata": {
      "needs_background": "light"
     },
     "output_type": "display_data"
    }
   ],
   "source": [
    "sns.histplot(data=data,x='FullDistance' ,binwidth=500,kde=True)\n",
    "\n",
    "print('the mean time that each trip tack is ',data['FullDistance'].mean())"
   ]
  },
  {
   "cell_type": "markdown",
   "metadata": {},
   "source": [
    "#### all most all trips cut from 1000 km to 2000 km"
   ]
  },
  {
   "cell_type": "markdown",
   "metadata": {},
   "source": [
    "### the distrubuion of the time col similar the distrubuion of the distance col"
   ]
  },
  {
   "cell_type": "markdown",
   "metadata": {},
   "source": [
    "# One-Hot Encoder Get-Dummies"
   ]
  },
  {
   "cell_type": "code",
   "execution_count": null,
   "metadata": {},
   "outputs": [],
   "source": [
    "\n",
    "new_data=pd.get_dummies(data=data,columns=['sighting_location'],drop_first=True)\n",
    "\n",
    "new_data.drop(['tripuid'],inplace=True,axis=1)"
   ]
  },
  {
   "cell_type": "markdown",
   "metadata": {},
   "source": [
    "### marge the time of the arrive from hours and minutes to only minutes"
   ]
  },
  {
   "cell_type": "code",
   "execution_count": null,
   "metadata": {},
   "outputs": [],
   "source": [
    "target_model_hour=new_data['H_train_arrival_date']\n",
    "target_model_minute=new_data['M_train_arrival_date']\n"
   ]
  },
  {
   "cell_type": "code",
   "execution_count": null,
   "metadata": {},
   "outputs": [],
   "source": [
    "total_train_arrival_date=(target_model_hour*60)+target_model_minute\n",
    "# total_train_arrival_date"
   ]
  },
  {
   "cell_type": "code",
   "execution_count": null,
   "metadata": {},
   "outputs": [],
   "source": [
    "new_data.drop(['M_train_arrival_date','H_train_arrival_date'],inplace=True,axis=1)\n",
    "new_data['time_train_arrival_date']=total_train_arrival_date"
   ]
  },
  {
   "cell_type": "code",
   "execution_count": null,
   "metadata": {},
   "outputs": [
    {
     "data": {
      "text/html": [
       "<div>\n",
       "<style scoped>\n",
       "    .dataframe tbody tr th:only-of-type {\n",
       "        vertical-align: middle;\n",
       "    }\n",
       "\n",
       "    .dataframe tbody tr th {\n",
       "        vertical-align: top;\n",
       "    }\n",
       "\n",
       "    .dataframe thead th {\n",
       "        text-align: right;\n",
       "    }\n",
       "</style>\n",
       "<table border=\"1\" class=\"dataframe\">\n",
       "  <thead>\n",
       "    <tr style=\"text-align: right;\">\n",
       "      <th></th>\n",
       "      <th>sighting_location_lat</th>\n",
       "      <th>sighting_location_lon</th>\n",
       "      <th>FullDistance</th>\n",
       "      <th>tot_hour_diff</th>\n",
       "      <th>Y_location_arrival_date</th>\n",
       "      <th>month_location_arrival_date</th>\n",
       "      <th>D_location_arrival_date</th>\n",
       "      <th>H_location_arrival_date</th>\n",
       "      <th>M_location_arrival_date</th>\n",
       "      <th>Y_location_departure_date</th>\n",
       "      <th>...</th>\n",
       "      <th>sighting_location_ROUGE RIVER SCANNER, MI</th>\n",
       "      <th>sighting_location_SAND CREEK, MI</th>\n",
       "      <th>sighting_location_STATE LINE CITY, IN</th>\n",
       "      <th>sighting_location_STERLING HEIGHTS, MI</th>\n",
       "      <th>sighting_location_TAYLOR, MI</th>\n",
       "      <th>sighting_location_THURMAN, IN</th>\n",
       "      <th>sighting_location_VOLTZ MIX CTR, MO</th>\n",
       "      <th>sighting_location_VOLTZ, MO</th>\n",
       "      <th>sighting_location_WARREN, MI</th>\n",
       "      <th>time_train_arrival_date</th>\n",
       "    </tr>\n",
       "  </thead>\n",
       "  <tbody>\n",
       "    <tr>\n",
       "      <th>0</th>\n",
       "      <td>42.537908</td>\n",
       "      <td>-83.037650</td>\n",
       "      <td>1329.469874</td>\n",
       "      <td>64.883333</td>\n",
       "      <td>2021</td>\n",
       "      <td>4</td>\n",
       "      <td>30</td>\n",
       "      <td>19</td>\n",
       "      <td>28</td>\n",
       "      <td>2021</td>\n",
       "      <td>...</td>\n",
       "      <td>0</td>\n",
       "      <td>0</td>\n",
       "      <td>0</td>\n",
       "      <td>1</td>\n",
       "      <td>0</td>\n",
       "      <td>0</td>\n",
       "      <td>0</td>\n",
       "      <td>0</td>\n",
       "      <td>0</td>\n",
       "      <td>741</td>\n",
       "    </tr>\n",
       "    <tr>\n",
       "      <th>1</th>\n",
       "      <td>42.499210</td>\n",
       "      <td>-83.037413</td>\n",
       "      <td>1329.469874</td>\n",
       "      <td>64.883333</td>\n",
       "      <td>2021</td>\n",
       "      <td>4</td>\n",
       "      <td>30</td>\n",
       "      <td>21</td>\n",
       "      <td>45</td>\n",
       "      <td>2021</td>\n",
       "      <td>...</td>\n",
       "      <td>0</td>\n",
       "      <td>0</td>\n",
       "      <td>0</td>\n",
       "      <td>0</td>\n",
       "      <td>0</td>\n",
       "      <td>0</td>\n",
       "      <td>0</td>\n",
       "      <td>0</td>\n",
       "      <td>1</td>\n",
       "      <td>741</td>\n",
       "    </tr>\n",
       "    <tr>\n",
       "      <th>2</th>\n",
       "      <td>42.572998</td>\n",
       "      <td>-83.040002</td>\n",
       "      <td>1329.469874</td>\n",
       "      <td>64.883333</td>\n",
       "      <td>2021</td>\n",
       "      <td>5</td>\n",
       "      <td>1</td>\n",
       "      <td>0</td>\n",
       "      <td>0</td>\n",
       "      <td>2021</td>\n",
       "      <td>...</td>\n",
       "      <td>0</td>\n",
       "      <td>0</td>\n",
       "      <td>0</td>\n",
       "      <td>0</td>\n",
       "      <td>0</td>\n",
       "      <td>0</td>\n",
       "      <td>0</td>\n",
       "      <td>0</td>\n",
       "      <td>0</td>\n",
       "      <td>741</td>\n",
       "    </tr>\n",
       "    <tr>\n",
       "      <th>3</th>\n",
       "      <td>42.406106</td>\n",
       "      <td>-83.037049</td>\n",
       "      <td>1329.469874</td>\n",
       "      <td>64.883333</td>\n",
       "      <td>2021</td>\n",
       "      <td>5</td>\n",
       "      <td>1</td>\n",
       "      <td>13</td>\n",
       "      <td>30</td>\n",
       "      <td>2021</td>\n",
       "      <td>...</td>\n",
       "      <td>0</td>\n",
       "      <td>0</td>\n",
       "      <td>0</td>\n",
       "      <td>0</td>\n",
       "      <td>0</td>\n",
       "      <td>0</td>\n",
       "      <td>0</td>\n",
       "      <td>0</td>\n",
       "      <td>0</td>\n",
       "      <td>741</td>\n",
       "    </tr>\n",
       "    <tr>\n",
       "      <th>4</th>\n",
       "      <td>42.278053</td>\n",
       "      <td>-83.170834</td>\n",
       "      <td>1329.469874</td>\n",
       "      <td>64.883333</td>\n",
       "      <td>2021</td>\n",
       "      <td>5</td>\n",
       "      <td>1</td>\n",
       "      <td>18</td>\n",
       "      <td>17</td>\n",
       "      <td>2021</td>\n",
       "      <td>...</td>\n",
       "      <td>0</td>\n",
       "      <td>0</td>\n",
       "      <td>0</td>\n",
       "      <td>0</td>\n",
       "      <td>0</td>\n",
       "      <td>0</td>\n",
       "      <td>0</td>\n",
       "      <td>0</td>\n",
       "      <td>0</td>\n",
       "      <td>741</td>\n",
       "    </tr>\n",
       "  </tbody>\n",
       "</table>\n",
       "<p>5 rows × 68 columns</p>\n",
       "</div>"
      ],
      "text/plain": [
       "   sighting_location_lat  sighting_location_lon  FullDistance  tot_hour_diff  \\\n",
       "0              42.537908             -83.037650   1329.469874      64.883333   \n",
       "1              42.499210             -83.037413   1329.469874      64.883333   \n",
       "2              42.572998             -83.040002   1329.469874      64.883333   \n",
       "3              42.406106             -83.037049   1329.469874      64.883333   \n",
       "4              42.278053             -83.170834   1329.469874      64.883333   \n",
       "\n",
       "   Y_location_arrival_date  month_location_arrival_date  \\\n",
       "0                     2021                            4   \n",
       "1                     2021                            4   \n",
       "2                     2021                            5   \n",
       "3                     2021                            5   \n",
       "4                     2021                            5   \n",
       "\n",
       "   D_location_arrival_date  H_location_arrival_date  M_location_arrival_date  \\\n",
       "0                       30                       19                       28   \n",
       "1                       30                       21                       45   \n",
       "2                        1                        0                        0   \n",
       "3                        1                       13                       30   \n",
       "4                        1                       18                       17   \n",
       "\n",
       "   Y_location_departure_date  ...  sighting_location_ROUGE RIVER SCANNER, MI  \\\n",
       "0                       2021  ...                                          0   \n",
       "1                       2021  ...                                          0   \n",
       "2                       2021  ...                                          0   \n",
       "3                       2021  ...                                          0   \n",
       "4                       2021  ...                                          0   \n",
       "\n",
       "   sighting_location_SAND CREEK, MI  sighting_location_STATE LINE CITY, IN  \\\n",
       "0                                 0                                      0   \n",
       "1                                 0                                      0   \n",
       "2                                 0                                      0   \n",
       "3                                 0                                      0   \n",
       "4                                 0                                      0   \n",
       "\n",
       "   sighting_location_STERLING HEIGHTS, MI  sighting_location_TAYLOR, MI  \\\n",
       "0                                       1                             0   \n",
       "1                                       0                             0   \n",
       "2                                       0                             0   \n",
       "3                                       0                             0   \n",
       "4                                       0                             0   \n",
       "\n",
       "   sighting_location_THURMAN, IN  sighting_location_VOLTZ MIX CTR, MO  \\\n",
       "0                              0                                    0   \n",
       "1                              0                                    0   \n",
       "2                              0                                    0   \n",
       "3                              0                                    0   \n",
       "4                              0                                    0   \n",
       "\n",
       "   sighting_location_VOLTZ, MO  sighting_location_WARREN, MI  \\\n",
       "0                            0                             0   \n",
       "1                            0                             1   \n",
       "2                            0                             0   \n",
       "3                            0                             0   \n",
       "4                            0                             0   \n",
       "\n",
       "   time_train_arrival_date  \n",
       "0                      741  \n",
       "1                      741  \n",
       "2                      741  \n",
       "3                      741  \n",
       "4                      741  \n",
       "\n",
       "[5 rows x 68 columns]"
      ]
     },
     "execution_count": 34,
     "metadata": {},
     "output_type": "execute_result"
    }
   ],
   "source": [
    "new_data.head()"
   ]
  },
  {
   "cell_type": "code",
   "execution_count": null,
   "metadata": {},
   "outputs": [
    {
     "data": {
      "text/plain": [
       "array(['STERLING HEIGHTS, MI', 'WARREN, MI', 'DETROIT STERLING, MI',\n",
       "       'DETROIT NORTH YARD, MI', 'OAKWOOD, MI', 'ROUGE RIVER SCANNER, MI',\n",
       "       'TAYLOR, MI', 'SAND CREEK, MI', 'MONTPELIER, OH', 'THURMAN, IN',\n",
       "       'FORT WAYNE, IN', 'FT WAYNE TBT, IN', 'ROANOKE SCANNER, IN',\n",
       "       'ROANOKE, IN', 'RICHVALLEY, IN', 'PERU, IN', 'NEW WAVERLY, IN',\n",
       "       'LAFAYETTE, IN', 'FLINT SCANNER, IN', 'MARSHFIELD, IN',\n",
       "       'NEWELL, IL', 'HOMER, IL', 'MILMINE, IL', 'DECATUR, IL',\n",
       "       'BUFFALO SCANNER, IL', 'HANNIBAL, MO', 'CLAPPER, MO',\n",
       "       'MOBERLY, MO', 'CLIFTON HILL, MO', 'MISSOURI CITY, MO',\n",
       "       'VOLTZ, MO', 'DELPHI, IN', 'STATE LINE CITY, IN', 'DELRAY, MI',\n",
       "       'BIRMINGHAM, MO', 'HUNTINGTON, IN', 'HOLLOWAY, MI', 'BEMENT, IL',\n",
       "       'VOLTZ MIX CTR, MO', 'BOODY, IL', 'CARPENTER SCANNER, IL',\n",
       "       'GRANITE CITY, IL', 'MADISON, IL', 'EAST DECATUR, IL', 'MILAN, MI',\n",
       "       'HADLEY, IL'], dtype=object)"
      ]
     },
     "execution_count": 35,
     "metadata": {},
     "output_type": "execute_result"
    }
   ],
   "source": [
    "data['sighting_location'].unique()"
   ]
  },
  {
   "cell_type": "code",
   "execution_count": null,
   "metadata": {},
   "outputs": [],
   "source": [
    "data=new_data.drop(['time_train_arrival_date'],axis=1)"
   ]
  },
  {
   "cell_type": "code",
   "execution_count": null,
   "metadata": {},
   "outputs": [],
   "source": []
  },
  {
   "cell_type": "markdown",
   "metadata": {},
   "source": [
    "## split data"
   ]
  },
  {
   "cell_type": "code",
   "execution_count": null,
   "metadata": {},
   "outputs": [],
   "source": [
    "X=data\n",
    "y=new_data.iloc[:,-1]"
   ]
  },
  {
   "cell_type": "code",
   "execution_count": null,
   "metadata": {},
   "outputs": [],
   "source": [
    "from sklearn.model_selection import train_test_split\n",
    "X_train, X_test, y_train, y_test = train_test_split(X, y, test_size=0.33, random_state=42)"
   ]
  },
  {
   "cell_type": "markdown",
   "metadata": {},
   "source": [
    "# DecisionTreeRegressor"
   ]
  },
  {
   "cell_type": "code",
   "execution_count": null,
   "metadata": {},
   "outputs": [],
   "source": [
    "from sklearn.tree import DecisionTreeRegressor\n",
    "regr =DecisionTreeRegressor(max_depth=12)"
   ]
  },
  {
   "cell_type": "code",
   "execution_count": null,
   "metadata": {},
   "outputs": [
    {
     "data": {
      "text/plain": [
       "DecisionTreeRegressor(max_depth=12)"
      ]
     },
     "execution_count": 76,
     "metadata": {},
     "output_type": "execute_result"
    }
   ],
   "source": [
    "regr.fit(X_train,y_train)"
   ]
  },
  {
   "cell_type": "code",
   "execution_count": null,
   "metadata": {},
   "outputs": [],
   "source": [
    "y_pred=regr.predict(X_test)"
   ]
  },
  {
   "cell_type": "code",
   "execution_count": null,
   "metadata": {},
   "outputs": [],
   "source": [
    "from sklearn.metrics import mean_absolute_error,mean_squared_error"
   ]
  },
  {
   "cell_type": "code",
   "execution_count": null,
   "metadata": {},
   "outputs": [
    {
     "data": {
      "text/plain": [
       "0.04997827031725338"
      ]
     },
     "execution_count": 79,
     "metadata": {},
     "output_type": "execute_result"
    }
   ],
   "source": [
    "mean_absolute_error(y_test, y_pred)"
   ]
  },
  {
   "cell_type": "code",
   "execution_count": 92,
   "metadata": {},
   "outputs": [],
   "source": [
    "MSE=mean_squared_error(y_test, y_pred)"
   ]
  },
  {
   "cell_type": "code",
   "execution_count": 95,
   "metadata": {},
   "outputs": [
    {
     "data": {
      "text/plain": [
       "0.3885070390433357"
      ]
     },
     "execution_count": 95,
     "metadata": {},
     "output_type": "execute_result"
    }
   ],
   "source": [
    "RMSE = math.sqrt(MSE)\n",
    "RMSE"
   ]
  },
  {
   "cell_type": "markdown",
   "metadata": {},
   "source": [
    "1. [Linked in Link](https://www.linkedin.com/in/abou-zithar/)\n",
    "\n",
    "2. [Github Link](https://github.com/abou-zithar)\n",
    "\n",
    "3. [gmail](mahmoudabouzit@gmail.com)"
   ]
  }
 ],
 "metadata": {
  "interpreter": {
   "hash": "d4e1dd4c3d11d8526b9b3260a068e832b935c01b3a1f2c3511f0db3a1e8b9fdd"
  },
  "kernelspec": {
   "display_name": "Python 3.9.12 64-bit (windows store)",
   "language": "python",
   "name": "python3"
  },
  "language_info": {
   "codemirror_mode": {
    "name": "ipython",
    "version": 3
   },
   "file_extension": ".py",
   "mimetype": "text/x-python",
   "name": "python",
   "nbconvert_exporter": "python",
   "pygments_lexer": "ipython3",
   "version": "3.9.12"
  },
  "orig_nbformat": 4
 },
 "nbformat": 4,
 "nbformat_minor": 2
}
