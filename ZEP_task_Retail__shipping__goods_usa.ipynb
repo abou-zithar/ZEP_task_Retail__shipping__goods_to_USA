{
  "nbformat": 4,
  "nbformat_minor": 0,
  "metadata": {
    "colab": {
      "name": "ZEP_task_Retail _shipping _goods_usa.ipynb",
      "provenance": [],
      "collapsed_sections": [],
      "authorship_tag": "ABX9TyO/lby7Ah49lMRrwVwoLYRm",
      "include_colab_link": true
    },
    "kernelspec": {
      "name": "python3",
      "display_name": "Python 3"
    },
    "language_info": {
      "name": "python"
    }
  },
  "cells": [
    {
      "cell_type": "markdown",
      "metadata": {
        "id": "view-in-github",
        "colab_type": "text"
      },
      "source": [
        "<a href=\"https://colab.research.google.com/github/abou-zithar/ZEP_task_Retail__shipping__goods_to_USA/blob/main/ZEP_task_Retail__shipping__goods_usa.ipynb\" target=\"_parent\"><img src=\"https://colab.research.google.com/assets/colab-badge.svg\" alt=\"Open In Colab\"/></a>"
      ]
    },
    {
      "cell_type": "code",
      "execution_count": null,
      "metadata": {
        "id": "byMZ6j9sixG_"
      },
      "outputs": [],
      "source": [
        "#import lib\n",
        "import pandas as pd \n",
        "import numpy as np\n",
        "import matplotlib.pyplot as plt"
      ]
    },
    {
      "cell_type": "code",
      "source": [
        "# connect to drive \n",
        "from google.colab import drive\n",
        "drive.mount('/content/drive')"
      ],
      "metadata": {
        "colab": {
          "base_uri": "https://localhost:8080/"
        },
        "id": "uMTOrk3ljWD3",
        "outputId": "1e936930-62a3-46c5-c014-8e6af2c2b922"
      },
      "execution_count": null,
      "outputs": [
        {
          "output_type": "stream",
          "name": "stdout",
          "text": [
            "Drive already mounted at /content/drive; to attempt to forcibly remount, call drive.mount(\"/content/drive\", force_remount=True).\n"
          ]
        }
      ]
    },
    {
      "cell_type": "code",
      "source": [
        "# use pandas to read data \n",
        "filepath='/content/drive/MyDrive/datasets/ZepDataSet.xlsx'\n",
        "data=pd.read_excel(filepath,parse_dates=['location_arrival_date','location_departure_date','origin_departure_date','train_arrival_date'])"
      ],
      "metadata": {
        "id": "bdBDU8Xhjp5n"
      },
      "execution_count": null,
      "outputs": []
    },
    {
      "cell_type": "code",
      "source": [
        "data.head()"
      ],
      "metadata": {
        "colab": {
          "base_uri": "https://localhost:8080/"
        },
        "id": "VyWQ3Ijej1bc",
        "outputId": "7ba1c422-ce67-4461-cff9-6937aef655c6"
      },
      "execution_count": null,
      "outputs": [
        {
          "output_type": "execute_result",
          "data": {
            "text/plain": [
              "                               tripuid origin_location destination_location  \\\n",
              "0  10054656400104001315859000566790000   STEHEIGHT, MI            VOLTZ, MO   \n",
              "1  10054656400104001315859000566790000   STEHEIGHT, MI            VOLTZ, MO   \n",
              "2  10054656400104001315859000566790000   STEHEIGHT, MI            VOLTZ, MO   \n",
              "3  10054656400104001315859000566790000   STEHEIGHT, MI            VOLTZ, MO   \n",
              "4  10054656400104001315859000566790000   STEHEIGHT, MI            VOLTZ, MO   \n",
              "\n",
              "        sighting_location  sighting_location_lat  sighting_location_lon  \\\n",
              "0    STERLING HEIGHTS, MI              42.537908             -83.037650   \n",
              "1              WARREN, MI              42.499210             -83.037413   \n",
              "2    DETROIT STERLING, MI              42.572998             -83.040002   \n",
              "3  DETROIT NORTH YARD, MI              42.406106             -83.037049   \n",
              "4             OAKWOOD, MI              42.278053             -83.170834   \n",
              "\n",
              "  location_arrival_date location_departure_date origin_departure_date  \\\n",
              "0   2021-04-30 19:28:00     2021-04-30 19:28:00   2021-04-30 19:28:00   \n",
              "1   2021-04-30 21:45:00     2021-04-30 21:46:00   2021-04-30 19:28:00   \n",
              "2   2021-05-01 00:00:00     2021-05-01 12:30:00   2021-04-30 19:28:00   \n",
              "3   2021-05-01 13:30:00     2021-05-01 15:30:00   2021-04-30 19:28:00   \n",
              "4   2021-05-01 18:17:00     2021-05-01 18:17:00   2021-04-30 19:28:00   \n",
              "\n",
              "   train_arrival_date  \n",
              "0 2021-05-03 12:21:00  \n",
              "1 2021-05-03 12:21:00  \n",
              "2 2021-05-03 12:21:00  \n",
              "3 2021-05-03 12:21:00  \n",
              "4 2021-05-03 12:21:00  "
            ],
            "text/html": [
              "\n",
              "  <div id=\"df-04e62648-e704-438a-a2bc-cffe08f2bb99\">\n",
              "    <div class=\"colab-df-container\">\n",
              "      <div>\n",
              "<style scoped>\n",
              "    .dataframe tbody tr th:only-of-type {\n",
              "        vertical-align: middle;\n",
              "    }\n",
              "\n",
              "    .dataframe tbody tr th {\n",
              "        vertical-align: top;\n",
              "    }\n",
              "\n",
              "    .dataframe thead th {\n",
              "        text-align: right;\n",
              "    }\n",
              "</style>\n",
              "<table border=\"1\" class=\"dataframe\">\n",
              "  <thead>\n",
              "    <tr style=\"text-align: right;\">\n",
              "      <th></th>\n",
              "      <th>tripuid</th>\n",
              "      <th>origin_location</th>\n",
              "      <th>destination_location</th>\n",
              "      <th>sighting_location</th>\n",
              "      <th>sighting_location_lat</th>\n",
              "      <th>sighting_location_lon</th>\n",
              "      <th>location_arrival_date</th>\n",
              "      <th>location_departure_date</th>\n",
              "      <th>origin_departure_date</th>\n",
              "      <th>train_arrival_date</th>\n",
              "    </tr>\n",
              "  </thead>\n",
              "  <tbody>\n",
              "    <tr>\n",
              "      <th>0</th>\n",
              "      <td>10054656400104001315859000566790000</td>\n",
              "      <td>STEHEIGHT, MI</td>\n",
              "      <td>VOLTZ, MO</td>\n",
              "      <td>STERLING HEIGHTS, MI</td>\n",
              "      <td>42.537908</td>\n",
              "      <td>-83.037650</td>\n",
              "      <td>2021-04-30 19:28:00</td>\n",
              "      <td>2021-04-30 19:28:00</td>\n",
              "      <td>2021-04-30 19:28:00</td>\n",
              "      <td>2021-05-03 12:21:00</td>\n",
              "    </tr>\n",
              "    <tr>\n",
              "      <th>1</th>\n",
              "      <td>10054656400104001315859000566790000</td>\n",
              "      <td>STEHEIGHT, MI</td>\n",
              "      <td>VOLTZ, MO</td>\n",
              "      <td>WARREN, MI</td>\n",
              "      <td>42.499210</td>\n",
              "      <td>-83.037413</td>\n",
              "      <td>2021-04-30 21:45:00</td>\n",
              "      <td>2021-04-30 21:46:00</td>\n",
              "      <td>2021-04-30 19:28:00</td>\n",
              "      <td>2021-05-03 12:21:00</td>\n",
              "    </tr>\n",
              "    <tr>\n",
              "      <th>2</th>\n",
              "      <td>10054656400104001315859000566790000</td>\n",
              "      <td>STEHEIGHT, MI</td>\n",
              "      <td>VOLTZ, MO</td>\n",
              "      <td>DETROIT STERLING, MI</td>\n",
              "      <td>42.572998</td>\n",
              "      <td>-83.040002</td>\n",
              "      <td>2021-05-01 00:00:00</td>\n",
              "      <td>2021-05-01 12:30:00</td>\n",
              "      <td>2021-04-30 19:28:00</td>\n",
              "      <td>2021-05-03 12:21:00</td>\n",
              "    </tr>\n",
              "    <tr>\n",
              "      <th>3</th>\n",
              "      <td>10054656400104001315859000566790000</td>\n",
              "      <td>STEHEIGHT, MI</td>\n",
              "      <td>VOLTZ, MO</td>\n",
              "      <td>DETROIT NORTH YARD, MI</td>\n",
              "      <td>42.406106</td>\n",
              "      <td>-83.037049</td>\n",
              "      <td>2021-05-01 13:30:00</td>\n",
              "      <td>2021-05-01 15:30:00</td>\n",
              "      <td>2021-04-30 19:28:00</td>\n",
              "      <td>2021-05-03 12:21:00</td>\n",
              "    </tr>\n",
              "    <tr>\n",
              "      <th>4</th>\n",
              "      <td>10054656400104001315859000566790000</td>\n",
              "      <td>STEHEIGHT, MI</td>\n",
              "      <td>VOLTZ, MO</td>\n",
              "      <td>OAKWOOD, MI</td>\n",
              "      <td>42.278053</td>\n",
              "      <td>-83.170834</td>\n",
              "      <td>2021-05-01 18:17:00</td>\n",
              "      <td>2021-05-01 18:17:00</td>\n",
              "      <td>2021-04-30 19:28:00</td>\n",
              "      <td>2021-05-03 12:21:00</td>\n",
              "    </tr>\n",
              "  </tbody>\n",
              "</table>\n",
              "</div>\n",
              "      <button class=\"colab-df-convert\" onclick=\"convertToInteractive('df-04e62648-e704-438a-a2bc-cffe08f2bb99')\"\n",
              "              title=\"Convert this dataframe to an interactive table.\"\n",
              "              style=\"display:none;\">\n",
              "        \n",
              "  <svg xmlns=\"http://www.w3.org/2000/svg\" height=\"24px\"viewBox=\"0 0 24 24\"\n",
              "       width=\"24px\">\n",
              "    <path d=\"M0 0h24v24H0V0z\" fill=\"none\"/>\n",
              "    <path d=\"M18.56 5.44l.94 2.06.94-2.06 2.06-.94-2.06-.94-.94-2.06-.94 2.06-2.06.94zm-11 1L8.5 8.5l.94-2.06 2.06-.94-2.06-.94L8.5 2.5l-.94 2.06-2.06.94zm10 10l.94 2.06.94-2.06 2.06-.94-2.06-.94-.94-2.06-.94 2.06-2.06.94z\"/><path d=\"M17.41 7.96l-1.37-1.37c-.4-.4-.92-.59-1.43-.59-.52 0-1.04.2-1.43.59L10.3 9.45l-7.72 7.72c-.78.78-.78 2.05 0 2.83L4 21.41c.39.39.9.59 1.41.59.51 0 1.02-.2 1.41-.59l7.78-7.78 2.81-2.81c.8-.78.8-2.07 0-2.86zM5.41 20L4 18.59l7.72-7.72 1.47 1.35L5.41 20z\"/>\n",
              "  </svg>\n",
              "      </button>\n",
              "      \n",
              "  <style>\n",
              "    .colab-df-container {\n",
              "      display:flex;\n",
              "      flex-wrap:wrap;\n",
              "      gap: 12px;\n",
              "    }\n",
              "\n",
              "    .colab-df-convert {\n",
              "      background-color: #E8F0FE;\n",
              "      border: none;\n",
              "      border-radius: 50%;\n",
              "      cursor: pointer;\n",
              "      display: none;\n",
              "      fill: #1967D2;\n",
              "      height: 32px;\n",
              "      padding: 0 0 0 0;\n",
              "      width: 32px;\n",
              "    }\n",
              "\n",
              "    .colab-df-convert:hover {\n",
              "      background-color: #E2EBFA;\n",
              "      box-shadow: 0px 1px 2px rgba(60, 64, 67, 0.3), 0px 1px 3px 1px rgba(60, 64, 67, 0.15);\n",
              "      fill: #174EA6;\n",
              "    }\n",
              "\n",
              "    [theme=dark] .colab-df-convert {\n",
              "      background-color: #3B4455;\n",
              "      fill: #D2E3FC;\n",
              "    }\n",
              "\n",
              "    [theme=dark] .colab-df-convert:hover {\n",
              "      background-color: #434B5C;\n",
              "      box-shadow: 0px 1px 3px 1px rgba(0, 0, 0, 0.15);\n",
              "      filter: drop-shadow(0px 1px 2px rgba(0, 0, 0, 0.3));\n",
              "      fill: #FFFFFF;\n",
              "    }\n",
              "  </style>\n",
              "\n",
              "      <script>\n",
              "        const buttonEl =\n",
              "          document.querySelector('#df-04e62648-e704-438a-a2bc-cffe08f2bb99 button.colab-df-convert');\n",
              "        buttonEl.style.display =\n",
              "          google.colab.kernel.accessAllowed ? 'block' : 'none';\n",
              "\n",
              "        async function convertToInteractive(key) {\n",
              "          const element = document.querySelector('#df-04e62648-e704-438a-a2bc-cffe08f2bb99');\n",
              "          const dataTable =\n",
              "            await google.colab.kernel.invokeFunction('convertToInteractive',\n",
              "                                                     [key], {});\n",
              "          if (!dataTable) return;\n",
              "\n",
              "          const docLinkHtml = 'Like what you see? Visit the ' +\n",
              "            '<a target=\"_blank\" href=https://colab.research.google.com/notebooks/data_table.ipynb>data table notebook</a>'\n",
              "            + ' to learn more about interactive tables.';\n",
              "          element.innerHTML = '';\n",
              "          dataTable['output_type'] = 'display_data';\n",
              "          await google.colab.output.renderOutput(dataTable, element);\n",
              "          const docLink = document.createElement('div');\n",
              "          docLink.innerHTML = docLinkHtml;\n",
              "          element.appendChild(docLink);\n",
              "        }\n",
              "      </script>\n",
              "    </div>\n",
              "  </div>\n",
              "  "
            ]
          },
          "metadata": {},
          "execution_count": 194
        }
      ]
    },
    {
      "cell_type": "code",
      "source": [
        "data.tail()"
      ],
      "metadata": {
        "colab": {
          "base_uri": "https://localhost:8080/"
        },
        "id": "WIxYUZHc3M8O",
        "outputId": "6deff14f-43d4-4fef-87bd-fc0780b5c34a"
      },
      "execution_count": null,
      "outputs": [
        {
          "output_type": "execute_result",
          "data": {
            "text/plain": [
              "                                  tripuid origin_location  \\\n",
              "1605  10063453900023001315859000566790000   STEHEIGHT, MI   \n",
              "1606  10063453900023001315859000566790000   STEHEIGHT, MI   \n",
              "1607  10063453900023001315859000566790000   STEHEIGHT, MI   \n",
              "1608  10063453900023001315859000566790000   STEHEIGHT, MI   \n",
              "1609  10063453900023001315859000566790000   STEHEIGHT, MI   \n",
              "\n",
              "     destination_location  sighting_location  sighting_location_lat  \\\n",
              "1605            VOLTZ, MO        CLAPPER, MO              39.588213   \n",
              "1606            VOLTZ, MO        MOBERLY, MO              39.419797   \n",
              "1607            VOLTZ, MO   CLIFTON HILL, MO              39.438175   \n",
              "1608            VOLTZ, MO  MISSOURI CITY, MO              39.223788   \n",
              "1609            VOLTZ, MO          VOLTZ, MO              39.186341   \n",
              "\n",
              "      sighting_location_lon location_arrival_date location_departure_date  \\\n",
              "1605             -91.845766   2020-08-13 04:24:00     2020-08-13 04:24:00   \n",
              "1606             -92.436711   2020-08-13 05:23:00     2020-08-13 05:43:00   \n",
              "1607             -92.665850   2020-08-13 07:01:00     2020-08-13 07:01:00   \n",
              "1608             -94.321008   2020-08-13 12:25:00     2020-08-13 12:25:00   \n",
              "1609             -94.429775   2020-08-13 13:24:00     2020-08-13 16:30:00   \n",
              "\n",
              "     origin_departure_date  train_arrival_date  \n",
              "1605   2020-08-11 04:24:00 2020-08-13 13:24:00  \n",
              "1606   2020-08-11 04:24:00 2020-08-13 13:24:00  \n",
              "1607   2020-08-11 04:24:00 2020-08-13 13:24:00  \n",
              "1608   2020-08-11 04:24:00 2020-08-13 13:24:00  \n",
              "1609   2020-08-11 04:24:00 2020-08-13 13:24:00  "
            ],
            "text/html": [
              "\n",
              "  <div id=\"df-aaee2cc3-4a7f-4503-9bd1-8d18d8ec94df\">\n",
              "    <div class=\"colab-df-container\">\n",
              "      <div>\n",
              "<style scoped>\n",
              "    .dataframe tbody tr th:only-of-type {\n",
              "        vertical-align: middle;\n",
              "    }\n",
              "\n",
              "    .dataframe tbody tr th {\n",
              "        vertical-align: top;\n",
              "    }\n",
              "\n",
              "    .dataframe thead th {\n",
              "        text-align: right;\n",
              "    }\n",
              "</style>\n",
              "<table border=\"1\" class=\"dataframe\">\n",
              "  <thead>\n",
              "    <tr style=\"text-align: right;\">\n",
              "      <th></th>\n",
              "      <th>tripuid</th>\n",
              "      <th>origin_location</th>\n",
              "      <th>destination_location</th>\n",
              "      <th>sighting_location</th>\n",
              "      <th>sighting_location_lat</th>\n",
              "      <th>sighting_location_lon</th>\n",
              "      <th>location_arrival_date</th>\n",
              "      <th>location_departure_date</th>\n",
              "      <th>origin_departure_date</th>\n",
              "      <th>train_arrival_date</th>\n",
              "    </tr>\n",
              "  </thead>\n",
              "  <tbody>\n",
              "    <tr>\n",
              "      <th>1605</th>\n",
              "      <td>10063453900023001315859000566790000</td>\n",
              "      <td>STEHEIGHT, MI</td>\n",
              "      <td>VOLTZ, MO</td>\n",
              "      <td>CLAPPER, MO</td>\n",
              "      <td>39.588213</td>\n",
              "      <td>-91.845766</td>\n",
              "      <td>2020-08-13 04:24:00</td>\n",
              "      <td>2020-08-13 04:24:00</td>\n",
              "      <td>2020-08-11 04:24:00</td>\n",
              "      <td>2020-08-13 13:24:00</td>\n",
              "    </tr>\n",
              "    <tr>\n",
              "      <th>1606</th>\n",
              "      <td>10063453900023001315859000566790000</td>\n",
              "      <td>STEHEIGHT, MI</td>\n",
              "      <td>VOLTZ, MO</td>\n",
              "      <td>MOBERLY, MO</td>\n",
              "      <td>39.419797</td>\n",
              "      <td>-92.436711</td>\n",
              "      <td>2020-08-13 05:23:00</td>\n",
              "      <td>2020-08-13 05:43:00</td>\n",
              "      <td>2020-08-11 04:24:00</td>\n",
              "      <td>2020-08-13 13:24:00</td>\n",
              "    </tr>\n",
              "    <tr>\n",
              "      <th>1607</th>\n",
              "      <td>10063453900023001315859000566790000</td>\n",
              "      <td>STEHEIGHT, MI</td>\n",
              "      <td>VOLTZ, MO</td>\n",
              "      <td>CLIFTON HILL, MO</td>\n",
              "      <td>39.438175</td>\n",
              "      <td>-92.665850</td>\n",
              "      <td>2020-08-13 07:01:00</td>\n",
              "      <td>2020-08-13 07:01:00</td>\n",
              "      <td>2020-08-11 04:24:00</td>\n",
              "      <td>2020-08-13 13:24:00</td>\n",
              "    </tr>\n",
              "    <tr>\n",
              "      <th>1608</th>\n",
              "      <td>10063453900023001315859000566790000</td>\n",
              "      <td>STEHEIGHT, MI</td>\n",
              "      <td>VOLTZ, MO</td>\n",
              "      <td>MISSOURI CITY, MO</td>\n",
              "      <td>39.223788</td>\n",
              "      <td>-94.321008</td>\n",
              "      <td>2020-08-13 12:25:00</td>\n",
              "      <td>2020-08-13 12:25:00</td>\n",
              "      <td>2020-08-11 04:24:00</td>\n",
              "      <td>2020-08-13 13:24:00</td>\n",
              "    </tr>\n",
              "    <tr>\n",
              "      <th>1609</th>\n",
              "      <td>10063453900023001315859000566790000</td>\n",
              "      <td>STEHEIGHT, MI</td>\n",
              "      <td>VOLTZ, MO</td>\n",
              "      <td>VOLTZ, MO</td>\n",
              "      <td>39.186341</td>\n",
              "      <td>-94.429775</td>\n",
              "      <td>2020-08-13 13:24:00</td>\n",
              "      <td>2020-08-13 16:30:00</td>\n",
              "      <td>2020-08-11 04:24:00</td>\n",
              "      <td>2020-08-13 13:24:00</td>\n",
              "    </tr>\n",
              "  </tbody>\n",
              "</table>\n",
              "</div>\n",
              "      <button class=\"colab-df-convert\" onclick=\"convertToInteractive('df-aaee2cc3-4a7f-4503-9bd1-8d18d8ec94df')\"\n",
              "              title=\"Convert this dataframe to an interactive table.\"\n",
              "              style=\"display:none;\">\n",
              "        \n",
              "  <svg xmlns=\"http://www.w3.org/2000/svg\" height=\"24px\"viewBox=\"0 0 24 24\"\n",
              "       width=\"24px\">\n",
              "    <path d=\"M0 0h24v24H0V0z\" fill=\"none\"/>\n",
              "    <path d=\"M18.56 5.44l.94 2.06.94-2.06 2.06-.94-2.06-.94-.94-2.06-.94 2.06-2.06.94zm-11 1L8.5 8.5l.94-2.06 2.06-.94-2.06-.94L8.5 2.5l-.94 2.06-2.06.94zm10 10l.94 2.06.94-2.06 2.06-.94-2.06-.94-.94-2.06-.94 2.06-2.06.94z\"/><path d=\"M17.41 7.96l-1.37-1.37c-.4-.4-.92-.59-1.43-.59-.52 0-1.04.2-1.43.59L10.3 9.45l-7.72 7.72c-.78.78-.78 2.05 0 2.83L4 21.41c.39.39.9.59 1.41.59.51 0 1.02-.2 1.41-.59l7.78-7.78 2.81-2.81c.8-.78.8-2.07 0-2.86zM5.41 20L4 18.59l7.72-7.72 1.47 1.35L5.41 20z\"/>\n",
              "  </svg>\n",
              "      </button>\n",
              "      \n",
              "  <style>\n",
              "    .colab-df-container {\n",
              "      display:flex;\n",
              "      flex-wrap:wrap;\n",
              "      gap: 12px;\n",
              "    }\n",
              "\n",
              "    .colab-df-convert {\n",
              "      background-color: #E8F0FE;\n",
              "      border: none;\n",
              "      border-radius: 50%;\n",
              "      cursor: pointer;\n",
              "      display: none;\n",
              "      fill: #1967D2;\n",
              "      height: 32px;\n",
              "      padding: 0 0 0 0;\n",
              "      width: 32px;\n",
              "    }\n",
              "\n",
              "    .colab-df-convert:hover {\n",
              "      background-color: #E2EBFA;\n",
              "      box-shadow: 0px 1px 2px rgba(60, 64, 67, 0.3), 0px 1px 3px 1px rgba(60, 64, 67, 0.15);\n",
              "      fill: #174EA6;\n",
              "    }\n",
              "\n",
              "    [theme=dark] .colab-df-convert {\n",
              "      background-color: #3B4455;\n",
              "      fill: #D2E3FC;\n",
              "    }\n",
              "\n",
              "    [theme=dark] .colab-df-convert:hover {\n",
              "      background-color: #434B5C;\n",
              "      box-shadow: 0px 1px 3px 1px rgba(0, 0, 0, 0.15);\n",
              "      filter: drop-shadow(0px 1px 2px rgba(0, 0, 0, 0.3));\n",
              "      fill: #FFFFFF;\n",
              "    }\n",
              "  </style>\n",
              "\n",
              "      <script>\n",
              "        const buttonEl =\n",
              "          document.querySelector('#df-aaee2cc3-4a7f-4503-9bd1-8d18d8ec94df button.colab-df-convert');\n",
              "        buttonEl.style.display =\n",
              "          google.colab.kernel.accessAllowed ? 'block' : 'none';\n",
              "\n",
              "        async function convertToInteractive(key) {\n",
              "          const element = document.querySelector('#df-aaee2cc3-4a7f-4503-9bd1-8d18d8ec94df');\n",
              "          const dataTable =\n",
              "            await google.colab.kernel.invokeFunction('convertToInteractive',\n",
              "                                                     [key], {});\n",
              "          if (!dataTable) return;\n",
              "\n",
              "          const docLinkHtml = 'Like what you see? Visit the ' +\n",
              "            '<a target=\"_blank\" href=https://colab.research.google.com/notebooks/data_table.ipynb>data table notebook</a>'\n",
              "            + ' to learn more about interactive tables.';\n",
              "          element.innerHTML = '';\n",
              "          dataTable['output_type'] = 'display_data';\n",
              "          await google.colab.output.renderOutput(dataTable, element);\n",
              "          const docLink = document.createElement('div');\n",
              "          docLink.innerHTML = docLinkHtml;\n",
              "          element.appendChild(docLink);\n",
              "        }\n",
              "      </script>\n",
              "    </div>\n",
              "  </div>\n",
              "  "
            ]
          },
          "metadata": {},
          "execution_count": 195
        }
      ]
    },
    {
      "cell_type": "code",
      "source": [
        "data.drop(['tripuid'],inplace=True,axis=1)"
      ],
      "metadata": {
        "id": "mZ5_PhPcj59J"
      },
      "execution_count": null,
      "outputs": []
    },
    {
      "cell_type": "code",
      "source": [
        "data['origin_location'].unique()"
      ],
      "metadata": {
        "colab": {
          "base_uri": "https://localhost:8080/"
        },
        "id": "gVPMUtGSlGU6",
        "outputId": "f1c96c2c-7152-4b53-efa1-1d99eb77cf43"
      },
      "execution_count": null,
      "outputs": [
        {
          "output_type": "execute_result",
          "data": {
            "text/plain": [
              "array(['STEHEIGHT, MI'], dtype=object)"
            ]
          },
          "metadata": {},
          "execution_count": 197
        }
      ]
    },
    {
      "cell_type": "code",
      "source": [
        "data['destination_location'].unique()"
      ],
      "metadata": {
        "colab": {
          "base_uri": "https://localhost:8080/"
        },
        "id": "hC3PPL9vlLi3",
        "outputId": "6ead6bba-ca22-4d40-c155-866cab859736"
      },
      "execution_count": null,
      "outputs": [
        {
          "output_type": "execute_result",
          "data": {
            "text/plain": [
              "array(['VOLTZ, MO'], dtype=object)"
            ]
          },
          "metadata": {},
          "execution_count": 198
        }
      ]
    },
    {
      "cell_type": "code",
      "source": [
        "data.drop(['destination_location','origin_location'],inplace=True,axis=1)"
      ],
      "metadata": {
        "id": "4nFwfRFEln-Z"
      },
      "execution_count": null,
      "outputs": []
    },
    {
      "cell_type": "code",
      "source": [
        "data.duplicated().sum()"
      ],
      "metadata": {
        "colab": {
          "base_uri": "https://localhost:8080/"
        },
        "id": "f1fwHvNilPCK",
        "outputId": "d554ff57-2b58-4975-c5b1-a660a4fc952d"
      },
      "execution_count": null,
      "outputs": [
        {
          "output_type": "execute_result",
          "data": {
            "text/plain": [
              "2"
            ]
          },
          "metadata": {},
          "execution_count": 200
        }
      ]
    },
    {
      "cell_type": "code",
      "source": [
        "data.drop_duplicates(inplace=True)"
      ],
      "metadata": {
        "id": "jnTVz6MblbgP"
      },
      "execution_count": null,
      "outputs": []
    },
    {
      "cell_type": "code",
      "source": [
        "data.head()"
      ],
      "metadata": {
        "colab": {
          "base_uri": "https://localhost:8080/"
        },
        "id": "GAX_24mZliXP",
        "outputId": "9a2ab2f7-da47-4969-ae84-56970920f019"
      },
      "execution_count": null,
      "outputs": [
        {
          "output_type": "execute_result",
          "data": {
            "text/plain": [
              "        sighting_location  sighting_location_lat  sighting_location_lon  \\\n",
              "0    STERLING HEIGHTS, MI              42.537908             -83.037650   \n",
              "1              WARREN, MI              42.499210             -83.037413   \n",
              "2    DETROIT STERLING, MI              42.572998             -83.040002   \n",
              "3  DETROIT NORTH YARD, MI              42.406106             -83.037049   \n",
              "4             OAKWOOD, MI              42.278053             -83.170834   \n",
              "\n",
              "  location_arrival_date location_departure_date origin_departure_date  \\\n",
              "0   2021-04-30 19:28:00     2021-04-30 19:28:00   2021-04-30 19:28:00   \n",
              "1   2021-04-30 21:45:00     2021-04-30 21:46:00   2021-04-30 19:28:00   \n",
              "2   2021-05-01 00:00:00     2021-05-01 12:30:00   2021-04-30 19:28:00   \n",
              "3   2021-05-01 13:30:00     2021-05-01 15:30:00   2021-04-30 19:28:00   \n",
              "4   2021-05-01 18:17:00     2021-05-01 18:17:00   2021-04-30 19:28:00   \n",
              "\n",
              "   train_arrival_date  \n",
              "0 2021-05-03 12:21:00  \n",
              "1 2021-05-03 12:21:00  \n",
              "2 2021-05-03 12:21:00  \n",
              "3 2021-05-03 12:21:00  \n",
              "4 2021-05-03 12:21:00  "
            ],
            "text/html": [
              "\n",
              "  <div id=\"df-cae164fe-a1e3-4a8f-93c9-f18f3efe1ccf\">\n",
              "    <div class=\"colab-df-container\">\n",
              "      <div>\n",
              "<style scoped>\n",
              "    .dataframe tbody tr th:only-of-type {\n",
              "        vertical-align: middle;\n",
              "    }\n",
              "\n",
              "    .dataframe tbody tr th {\n",
              "        vertical-align: top;\n",
              "    }\n",
              "\n",
              "    .dataframe thead th {\n",
              "        text-align: right;\n",
              "    }\n",
              "</style>\n",
              "<table border=\"1\" class=\"dataframe\">\n",
              "  <thead>\n",
              "    <tr style=\"text-align: right;\">\n",
              "      <th></th>\n",
              "      <th>sighting_location</th>\n",
              "      <th>sighting_location_lat</th>\n",
              "      <th>sighting_location_lon</th>\n",
              "      <th>location_arrival_date</th>\n",
              "      <th>location_departure_date</th>\n",
              "      <th>origin_departure_date</th>\n",
              "      <th>train_arrival_date</th>\n",
              "    </tr>\n",
              "  </thead>\n",
              "  <tbody>\n",
              "    <tr>\n",
              "      <th>0</th>\n",
              "      <td>STERLING HEIGHTS, MI</td>\n",
              "      <td>42.537908</td>\n",
              "      <td>-83.037650</td>\n",
              "      <td>2021-04-30 19:28:00</td>\n",
              "      <td>2021-04-30 19:28:00</td>\n",
              "      <td>2021-04-30 19:28:00</td>\n",
              "      <td>2021-05-03 12:21:00</td>\n",
              "    </tr>\n",
              "    <tr>\n",
              "      <th>1</th>\n",
              "      <td>WARREN, MI</td>\n",
              "      <td>42.499210</td>\n",
              "      <td>-83.037413</td>\n",
              "      <td>2021-04-30 21:45:00</td>\n",
              "      <td>2021-04-30 21:46:00</td>\n",
              "      <td>2021-04-30 19:28:00</td>\n",
              "      <td>2021-05-03 12:21:00</td>\n",
              "    </tr>\n",
              "    <tr>\n",
              "      <th>2</th>\n",
              "      <td>DETROIT STERLING, MI</td>\n",
              "      <td>42.572998</td>\n",
              "      <td>-83.040002</td>\n",
              "      <td>2021-05-01 00:00:00</td>\n",
              "      <td>2021-05-01 12:30:00</td>\n",
              "      <td>2021-04-30 19:28:00</td>\n",
              "      <td>2021-05-03 12:21:00</td>\n",
              "    </tr>\n",
              "    <tr>\n",
              "      <th>3</th>\n",
              "      <td>DETROIT NORTH YARD, MI</td>\n",
              "      <td>42.406106</td>\n",
              "      <td>-83.037049</td>\n",
              "      <td>2021-05-01 13:30:00</td>\n",
              "      <td>2021-05-01 15:30:00</td>\n",
              "      <td>2021-04-30 19:28:00</td>\n",
              "      <td>2021-05-03 12:21:00</td>\n",
              "    </tr>\n",
              "    <tr>\n",
              "      <th>4</th>\n",
              "      <td>OAKWOOD, MI</td>\n",
              "      <td>42.278053</td>\n",
              "      <td>-83.170834</td>\n",
              "      <td>2021-05-01 18:17:00</td>\n",
              "      <td>2021-05-01 18:17:00</td>\n",
              "      <td>2021-04-30 19:28:00</td>\n",
              "      <td>2021-05-03 12:21:00</td>\n",
              "    </tr>\n",
              "  </tbody>\n",
              "</table>\n",
              "</div>\n",
              "      <button class=\"colab-df-convert\" onclick=\"convertToInteractive('df-cae164fe-a1e3-4a8f-93c9-f18f3efe1ccf')\"\n",
              "              title=\"Convert this dataframe to an interactive table.\"\n",
              "              style=\"display:none;\">\n",
              "        \n",
              "  <svg xmlns=\"http://www.w3.org/2000/svg\" height=\"24px\"viewBox=\"0 0 24 24\"\n",
              "       width=\"24px\">\n",
              "    <path d=\"M0 0h24v24H0V0z\" fill=\"none\"/>\n",
              "    <path d=\"M18.56 5.44l.94 2.06.94-2.06 2.06-.94-2.06-.94-.94-2.06-.94 2.06-2.06.94zm-11 1L8.5 8.5l.94-2.06 2.06-.94-2.06-.94L8.5 2.5l-.94 2.06-2.06.94zm10 10l.94 2.06.94-2.06 2.06-.94-2.06-.94-.94-2.06-.94 2.06-2.06.94z\"/><path d=\"M17.41 7.96l-1.37-1.37c-.4-.4-.92-.59-1.43-.59-.52 0-1.04.2-1.43.59L10.3 9.45l-7.72 7.72c-.78.78-.78 2.05 0 2.83L4 21.41c.39.39.9.59 1.41.59.51 0 1.02-.2 1.41-.59l7.78-7.78 2.81-2.81c.8-.78.8-2.07 0-2.86zM5.41 20L4 18.59l7.72-7.72 1.47 1.35L5.41 20z\"/>\n",
              "  </svg>\n",
              "      </button>\n",
              "      \n",
              "  <style>\n",
              "    .colab-df-container {\n",
              "      display:flex;\n",
              "      flex-wrap:wrap;\n",
              "      gap: 12px;\n",
              "    }\n",
              "\n",
              "    .colab-df-convert {\n",
              "      background-color: #E8F0FE;\n",
              "      border: none;\n",
              "      border-radius: 50%;\n",
              "      cursor: pointer;\n",
              "      display: none;\n",
              "      fill: #1967D2;\n",
              "      height: 32px;\n",
              "      padding: 0 0 0 0;\n",
              "      width: 32px;\n",
              "    }\n",
              "\n",
              "    .colab-df-convert:hover {\n",
              "      background-color: #E2EBFA;\n",
              "      box-shadow: 0px 1px 2px rgba(60, 64, 67, 0.3), 0px 1px 3px 1px rgba(60, 64, 67, 0.15);\n",
              "      fill: #174EA6;\n",
              "    }\n",
              "\n",
              "    [theme=dark] .colab-df-convert {\n",
              "      background-color: #3B4455;\n",
              "      fill: #D2E3FC;\n",
              "    }\n",
              "\n",
              "    [theme=dark] .colab-df-convert:hover {\n",
              "      background-color: #434B5C;\n",
              "      box-shadow: 0px 1px 3px 1px rgba(0, 0, 0, 0.15);\n",
              "      filter: drop-shadow(0px 1px 2px rgba(0, 0, 0, 0.3));\n",
              "      fill: #FFFFFF;\n",
              "    }\n",
              "  </style>\n",
              "\n",
              "      <script>\n",
              "        const buttonEl =\n",
              "          document.querySelector('#df-cae164fe-a1e3-4a8f-93c9-f18f3efe1ccf button.colab-df-convert');\n",
              "        buttonEl.style.display =\n",
              "          google.colab.kernel.accessAllowed ? 'block' : 'none';\n",
              "\n",
              "        async function convertToInteractive(key) {\n",
              "          const element = document.querySelector('#df-cae164fe-a1e3-4a8f-93c9-f18f3efe1ccf');\n",
              "          const dataTable =\n",
              "            await google.colab.kernel.invokeFunction('convertToInteractive',\n",
              "                                                     [key], {});\n",
              "          if (!dataTable) return;\n",
              "\n",
              "          const docLinkHtml = 'Like what you see? Visit the ' +\n",
              "            '<a target=\"_blank\" href=https://colab.research.google.com/notebooks/data_table.ipynb>data table notebook</a>'\n",
              "            + ' to learn more about interactive tables.';\n",
              "          element.innerHTML = '';\n",
              "          dataTable['output_type'] = 'display_data';\n",
              "          await google.colab.output.renderOutput(dataTable, element);\n",
              "          const docLink = document.createElement('div');\n",
              "          docLink.innerHTML = docLinkHtml;\n",
              "          element.appendChild(docLink);\n",
              "        }\n",
              "      </script>\n",
              "    </div>\n",
              "  </div>\n",
              "  "
            ]
          },
          "metadata": {},
          "execution_count": 202
        }
      ]
    },
    {
      "cell_type": "code",
      "source": [
        "data.tail()"
      ],
      "metadata": {
        "colab": {
          "base_uri": "https://localhost:8080/",
          "height": 206
        },
        "id": "AtvKvmn4nzwG",
        "outputId": "60f17f05-71f5-4c5d-e634-c9ffc1187b39"
      },
      "execution_count": null,
      "outputs": [
        {
          "output_type": "execute_result",
          "data": {
            "text/plain": [
              "      sighting_location  sighting_location_lat  sighting_location_lon  \\\n",
              "1605        CLAPPER, MO              39.588213             -91.845766   \n",
              "1606        MOBERLY, MO              39.419797             -92.436711   \n",
              "1607   CLIFTON HILL, MO              39.438175             -92.665850   \n",
              "1608  MISSOURI CITY, MO              39.223788             -94.321008   \n",
              "1609          VOLTZ, MO              39.186341             -94.429775   \n",
              "\n",
              "     location_arrival_date location_departure_date origin_departure_date  \\\n",
              "1605   2020-08-13 04:24:00     2020-08-13 04:24:00   2020-08-11 04:24:00   \n",
              "1606   2020-08-13 05:23:00     2020-08-13 05:43:00   2020-08-11 04:24:00   \n",
              "1607   2020-08-13 07:01:00     2020-08-13 07:01:00   2020-08-11 04:24:00   \n",
              "1608   2020-08-13 12:25:00     2020-08-13 12:25:00   2020-08-11 04:24:00   \n",
              "1609   2020-08-13 13:24:00     2020-08-13 16:30:00   2020-08-11 04:24:00   \n",
              "\n",
              "      train_arrival_date  \n",
              "1605 2020-08-13 13:24:00  \n",
              "1606 2020-08-13 13:24:00  \n",
              "1607 2020-08-13 13:24:00  \n",
              "1608 2020-08-13 13:24:00  \n",
              "1609 2020-08-13 13:24:00  "
            ],
            "text/html": [
              "\n",
              "  <div id=\"df-503f0486-ffab-4fe1-aeb1-81f21bc4935d\">\n",
              "    <div class=\"colab-df-container\">\n",
              "      <div>\n",
              "<style scoped>\n",
              "    .dataframe tbody tr th:only-of-type {\n",
              "        vertical-align: middle;\n",
              "    }\n",
              "\n",
              "    .dataframe tbody tr th {\n",
              "        vertical-align: top;\n",
              "    }\n",
              "\n",
              "    .dataframe thead th {\n",
              "        text-align: right;\n",
              "    }\n",
              "</style>\n",
              "<table border=\"1\" class=\"dataframe\">\n",
              "  <thead>\n",
              "    <tr style=\"text-align: right;\">\n",
              "      <th></th>\n",
              "      <th>sighting_location</th>\n",
              "      <th>sighting_location_lat</th>\n",
              "      <th>sighting_location_lon</th>\n",
              "      <th>location_arrival_date</th>\n",
              "      <th>location_departure_date</th>\n",
              "      <th>origin_departure_date</th>\n",
              "      <th>train_arrival_date</th>\n",
              "    </tr>\n",
              "  </thead>\n",
              "  <tbody>\n",
              "    <tr>\n",
              "      <th>1605</th>\n",
              "      <td>CLAPPER, MO</td>\n",
              "      <td>39.588213</td>\n",
              "      <td>-91.845766</td>\n",
              "      <td>2020-08-13 04:24:00</td>\n",
              "      <td>2020-08-13 04:24:00</td>\n",
              "      <td>2020-08-11 04:24:00</td>\n",
              "      <td>2020-08-13 13:24:00</td>\n",
              "    </tr>\n",
              "    <tr>\n",
              "      <th>1606</th>\n",
              "      <td>MOBERLY, MO</td>\n",
              "      <td>39.419797</td>\n",
              "      <td>-92.436711</td>\n",
              "      <td>2020-08-13 05:23:00</td>\n",
              "      <td>2020-08-13 05:43:00</td>\n",
              "      <td>2020-08-11 04:24:00</td>\n",
              "      <td>2020-08-13 13:24:00</td>\n",
              "    </tr>\n",
              "    <tr>\n",
              "      <th>1607</th>\n",
              "      <td>CLIFTON HILL, MO</td>\n",
              "      <td>39.438175</td>\n",
              "      <td>-92.665850</td>\n",
              "      <td>2020-08-13 07:01:00</td>\n",
              "      <td>2020-08-13 07:01:00</td>\n",
              "      <td>2020-08-11 04:24:00</td>\n",
              "      <td>2020-08-13 13:24:00</td>\n",
              "    </tr>\n",
              "    <tr>\n",
              "      <th>1608</th>\n",
              "      <td>MISSOURI CITY, MO</td>\n",
              "      <td>39.223788</td>\n",
              "      <td>-94.321008</td>\n",
              "      <td>2020-08-13 12:25:00</td>\n",
              "      <td>2020-08-13 12:25:00</td>\n",
              "      <td>2020-08-11 04:24:00</td>\n",
              "      <td>2020-08-13 13:24:00</td>\n",
              "    </tr>\n",
              "    <tr>\n",
              "      <th>1609</th>\n",
              "      <td>VOLTZ, MO</td>\n",
              "      <td>39.186341</td>\n",
              "      <td>-94.429775</td>\n",
              "      <td>2020-08-13 13:24:00</td>\n",
              "      <td>2020-08-13 16:30:00</td>\n",
              "      <td>2020-08-11 04:24:00</td>\n",
              "      <td>2020-08-13 13:24:00</td>\n",
              "    </tr>\n",
              "  </tbody>\n",
              "</table>\n",
              "</div>\n",
              "      <button class=\"colab-df-convert\" onclick=\"convertToInteractive('df-503f0486-ffab-4fe1-aeb1-81f21bc4935d')\"\n",
              "              title=\"Convert this dataframe to an interactive table.\"\n",
              "              style=\"display:none;\">\n",
              "        \n",
              "  <svg xmlns=\"http://www.w3.org/2000/svg\" height=\"24px\"viewBox=\"0 0 24 24\"\n",
              "       width=\"24px\">\n",
              "    <path d=\"M0 0h24v24H0V0z\" fill=\"none\"/>\n",
              "    <path d=\"M18.56 5.44l.94 2.06.94-2.06 2.06-.94-2.06-.94-.94-2.06-.94 2.06-2.06.94zm-11 1L8.5 8.5l.94-2.06 2.06-.94-2.06-.94L8.5 2.5l-.94 2.06-2.06.94zm10 10l.94 2.06.94-2.06 2.06-.94-2.06-.94-.94-2.06-.94 2.06-2.06.94z\"/><path d=\"M17.41 7.96l-1.37-1.37c-.4-.4-.92-.59-1.43-.59-.52 0-1.04.2-1.43.59L10.3 9.45l-7.72 7.72c-.78.78-.78 2.05 0 2.83L4 21.41c.39.39.9.59 1.41.59.51 0 1.02-.2 1.41-.59l7.78-7.78 2.81-2.81c.8-.78.8-2.07 0-2.86zM5.41 20L4 18.59l7.72-7.72 1.47 1.35L5.41 20z\"/>\n",
              "  </svg>\n",
              "      </button>\n",
              "      \n",
              "  <style>\n",
              "    .colab-df-container {\n",
              "      display:flex;\n",
              "      flex-wrap:wrap;\n",
              "      gap: 12px;\n",
              "    }\n",
              "\n",
              "    .colab-df-convert {\n",
              "      background-color: #E8F0FE;\n",
              "      border: none;\n",
              "      border-radius: 50%;\n",
              "      cursor: pointer;\n",
              "      display: none;\n",
              "      fill: #1967D2;\n",
              "      height: 32px;\n",
              "      padding: 0 0 0 0;\n",
              "      width: 32px;\n",
              "    }\n",
              "\n",
              "    .colab-df-convert:hover {\n",
              "      background-color: #E2EBFA;\n",
              "      box-shadow: 0px 1px 2px rgba(60, 64, 67, 0.3), 0px 1px 3px 1px rgba(60, 64, 67, 0.15);\n",
              "      fill: #174EA6;\n",
              "    }\n",
              "\n",
              "    [theme=dark] .colab-df-convert {\n",
              "      background-color: #3B4455;\n",
              "      fill: #D2E3FC;\n",
              "    }\n",
              "\n",
              "    [theme=dark] .colab-df-convert:hover {\n",
              "      background-color: #434B5C;\n",
              "      box-shadow: 0px 1px 3px 1px rgba(0, 0, 0, 0.15);\n",
              "      filter: drop-shadow(0px 1px 2px rgba(0, 0, 0, 0.3));\n",
              "      fill: #FFFFFF;\n",
              "    }\n",
              "  </style>\n",
              "\n",
              "      <script>\n",
              "        const buttonEl =\n",
              "          document.querySelector('#df-503f0486-ffab-4fe1-aeb1-81f21bc4935d button.colab-df-convert');\n",
              "        buttonEl.style.display =\n",
              "          google.colab.kernel.accessAllowed ? 'block' : 'none';\n",
              "\n",
              "        async function convertToInteractive(key) {\n",
              "          const element = document.querySelector('#df-503f0486-ffab-4fe1-aeb1-81f21bc4935d');\n",
              "          const dataTable =\n",
              "            await google.colab.kernel.invokeFunction('convertToInteractive',\n",
              "                                                     [key], {});\n",
              "          if (!dataTable) return;\n",
              "\n",
              "          const docLinkHtml = 'Like what you see? Visit the ' +\n",
              "            '<a target=\"_blank\" href=https://colab.research.google.com/notebooks/data_table.ipynb>data table notebook</a>'\n",
              "            + ' to learn more about interactive tables.';\n",
              "          element.innerHTML = '';\n",
              "          dataTable['output_type'] = 'display_data';\n",
              "          await google.colab.output.renderOutput(dataTable, element);\n",
              "          const docLink = document.createElement('div');\n",
              "          docLink.innerHTML = docLinkHtml;\n",
              "          element.appendChild(docLink);\n",
              "        }\n",
              "      </script>\n",
              "    </div>\n",
              "  </div>\n",
              "  "
            ]
          },
          "metadata": {},
          "execution_count": 203
        }
      ]
    },
    {
      "cell_type": "code",
      "source": [
        "data.shape"
      ],
      "metadata": {
        "colab": {
          "base_uri": "https://localhost:8080/"
        },
        "id": "jPRYMw9on4sS",
        "outputId": "658b7f81-2865-41d0-b36f-063568797816"
      },
      "execution_count": null,
      "outputs": [
        {
          "output_type": "execute_result",
          "data": {
            "text/plain": [
              "(1608, 7)"
            ]
          },
          "metadata": {},
          "execution_count": 204
        }
      ]
    },
    {
      "cell_type": "code",
      "source": [
        "data.info()"
      ],
      "metadata": {
        "colab": {
          "base_uri": "https://localhost:8080/"
        },
        "id": "0NYNH6jJlrhw",
        "outputId": "edb8af31-e726-4b6d-b0de-79665f897bc7"
      },
      "execution_count": null,
      "outputs": [
        {
          "output_type": "stream",
          "name": "stdout",
          "text": [
            "<class 'pandas.core.frame.DataFrame'>\n",
            "Int64Index: 1608 entries, 0 to 1609\n",
            "Data columns (total 7 columns):\n",
            " #   Column                   Non-Null Count  Dtype         \n",
            "---  ------                   --------------  -----         \n",
            " 0   sighting_location        1608 non-null   object        \n",
            " 1   sighting_location_lat    1608 non-null   float64       \n",
            " 2   sighting_location_lon    1608 non-null   float64       \n",
            " 3   location_arrival_date    1608 non-null   datetime64[ns]\n",
            " 4   location_departure_date  1608 non-null   datetime64[ns]\n",
            " 5   origin_departure_date    1608 non-null   datetime64[ns]\n",
            " 6   train_arrival_date       1608 non-null   datetime64[ns]\n",
            "dtypes: datetime64[ns](4), float64(2), object(1)\n",
            "memory usage: 100.5+ KB\n"
          ]
        }
      ]
    },
    {
      "cell_type": "code",
      "source": [
        ""
      ],
      "metadata": {
        "id": "mPBzoc6ICEe-"
      },
      "execution_count": null,
      "outputs": []
    },
    {
      "cell_type": "markdown",
      "source": [
        "<h4> as we can see the data has no nulls and the data is datatime64 type "
      ],
      "metadata": {
        "id": "1HpXdUbfmJUY"
      }
    },
    {
      "cell_type": "code",
      "source": [
        "def getDeltaOfTiem(feature_from,feature_to):\n",
        "  data['Trip_time'] = (data[feature_from] - data[feature_to])\n",
        "\n",
        "  # create a column with timedelta as total hours, as a float type\n",
        "  data['tot_hour_diff'] = (data[feature_from] - data[feature_to]) / pd.Timedelta(hours=1)\n",
        "\n",
        "  # create a colume with timedelta as total minutes, as a float type\n",
        "  data['tot_mins_diff'] = (data[feature_from] - data[feature_to]) / pd.Timedelta(minutes=1)\n",
        "\n",
        "getDeltaOfTiem('train_arrival_date','origin_departure_date')"
      ],
      "metadata": {
        "id": "f616wx8yCE3o"
      },
      "execution_count": null,
      "outputs": []
    },
    {
      "cell_type": "code",
      "source": [
        "data['Trip_time']"
      ],
      "metadata": {
        "colab": {
          "base_uri": "https://localhost:8080/",
          "height": 502
        },
        "id": "pmUsbagTDeCv",
        "outputId": "48248c9e-4294-47fe-fd82-c2e01375898f"
      },
      "execution_count": null,
      "outputs": [
        {
          "output_type": "error",
          "ename": "KeyError",
          "evalue": "ignored",
          "traceback": [
            "\u001b[0;31m---------------------------------------------------------------------------\u001b[0m",
            "\u001b[0;31mKeyError\u001b[0m                                  Traceback (most recent call last)",
            "\u001b[0;32m/usr/local/lib/python3.7/dist-packages/pandas/core/indexes/base.py\u001b[0m in \u001b[0;36mget_loc\u001b[0;34m(self, key, method, tolerance)\u001b[0m\n\u001b[1;32m   3360\u001b[0m             \u001b[0;32mtry\u001b[0m\u001b[0;34m:\u001b[0m\u001b[0;34m\u001b[0m\u001b[0;34m\u001b[0m\u001b[0m\n\u001b[0;32m-> 3361\u001b[0;31m                 \u001b[0;32mreturn\u001b[0m \u001b[0mself\u001b[0m\u001b[0;34m.\u001b[0m\u001b[0m_engine\u001b[0m\u001b[0;34m.\u001b[0m\u001b[0mget_loc\u001b[0m\u001b[0;34m(\u001b[0m\u001b[0mcasted_key\u001b[0m\u001b[0;34m)\u001b[0m\u001b[0;34m\u001b[0m\u001b[0;34m\u001b[0m\u001b[0m\n\u001b[0m\u001b[1;32m   3362\u001b[0m             \u001b[0;32mexcept\u001b[0m \u001b[0mKeyError\u001b[0m \u001b[0;32mas\u001b[0m \u001b[0merr\u001b[0m\u001b[0;34m:\u001b[0m\u001b[0;34m\u001b[0m\u001b[0;34m\u001b[0m\u001b[0m\n",
            "\u001b[0;32m/usr/local/lib/python3.7/dist-packages/pandas/_libs/index.pyx\u001b[0m in \u001b[0;36mpandas._libs.index.IndexEngine.get_loc\u001b[0;34m()\u001b[0m\n",
            "\u001b[0;32m/usr/local/lib/python3.7/dist-packages/pandas/_libs/index.pyx\u001b[0m in \u001b[0;36mpandas._libs.index.IndexEngine.get_loc\u001b[0;34m()\u001b[0m\n",
            "\u001b[0;32mpandas/_libs/hashtable_class_helper.pxi\u001b[0m in \u001b[0;36mpandas._libs.hashtable.PyObjectHashTable.get_item\u001b[0;34m()\u001b[0m\n",
            "\u001b[0;32mpandas/_libs/hashtable_class_helper.pxi\u001b[0m in \u001b[0;36mpandas._libs.hashtable.PyObjectHashTable.get_item\u001b[0;34m()\u001b[0m\n",
            "\u001b[0;31mKeyError\u001b[0m: 'time_delta'",
            "\nThe above exception was the direct cause of the following exception:\n",
            "\u001b[0;31mKeyError\u001b[0m                                  Traceback (most recent call last)",
            "\u001b[0;32m<ipython-input-207-ac495bf50ae1>\u001b[0m in \u001b[0;36m<module>\u001b[0;34m()\u001b[0m\n\u001b[0;32m----> 1\u001b[0;31m \u001b[0mdata\u001b[0m\u001b[0;34m[\u001b[0m\u001b[0;34m'time_delta'\u001b[0m\u001b[0;34m]\u001b[0m\u001b[0;34m\u001b[0m\u001b[0;34m\u001b[0m\u001b[0m\n\u001b[0m",
            "\u001b[0;32m/usr/local/lib/python3.7/dist-packages/pandas/core/frame.py\u001b[0m in \u001b[0;36m__getitem__\u001b[0;34m(self, key)\u001b[0m\n\u001b[1;32m   3456\u001b[0m             \u001b[0;32mif\u001b[0m \u001b[0mself\u001b[0m\u001b[0;34m.\u001b[0m\u001b[0mcolumns\u001b[0m\u001b[0;34m.\u001b[0m\u001b[0mnlevels\u001b[0m \u001b[0;34m>\u001b[0m \u001b[0;36m1\u001b[0m\u001b[0;34m:\u001b[0m\u001b[0;34m\u001b[0m\u001b[0;34m\u001b[0m\u001b[0m\n\u001b[1;32m   3457\u001b[0m                 \u001b[0;32mreturn\u001b[0m \u001b[0mself\u001b[0m\u001b[0;34m.\u001b[0m\u001b[0m_getitem_multilevel\u001b[0m\u001b[0;34m(\u001b[0m\u001b[0mkey\u001b[0m\u001b[0;34m)\u001b[0m\u001b[0;34m\u001b[0m\u001b[0;34m\u001b[0m\u001b[0m\n\u001b[0;32m-> 3458\u001b[0;31m             \u001b[0mindexer\u001b[0m \u001b[0;34m=\u001b[0m \u001b[0mself\u001b[0m\u001b[0;34m.\u001b[0m\u001b[0mcolumns\u001b[0m\u001b[0;34m.\u001b[0m\u001b[0mget_loc\u001b[0m\u001b[0;34m(\u001b[0m\u001b[0mkey\u001b[0m\u001b[0;34m)\u001b[0m\u001b[0;34m\u001b[0m\u001b[0;34m\u001b[0m\u001b[0m\n\u001b[0m\u001b[1;32m   3459\u001b[0m             \u001b[0;32mif\u001b[0m \u001b[0mis_integer\u001b[0m\u001b[0;34m(\u001b[0m\u001b[0mindexer\u001b[0m\u001b[0;34m)\u001b[0m\u001b[0;34m:\u001b[0m\u001b[0;34m\u001b[0m\u001b[0;34m\u001b[0m\u001b[0m\n\u001b[1;32m   3460\u001b[0m                 \u001b[0mindexer\u001b[0m \u001b[0;34m=\u001b[0m \u001b[0;34m[\u001b[0m\u001b[0mindexer\u001b[0m\u001b[0;34m]\u001b[0m\u001b[0;34m\u001b[0m\u001b[0;34m\u001b[0m\u001b[0m\n",
            "\u001b[0;32m/usr/local/lib/python3.7/dist-packages/pandas/core/indexes/base.py\u001b[0m in \u001b[0;36mget_loc\u001b[0;34m(self, key, method, tolerance)\u001b[0m\n\u001b[1;32m   3361\u001b[0m                 \u001b[0;32mreturn\u001b[0m \u001b[0mself\u001b[0m\u001b[0;34m.\u001b[0m\u001b[0m_engine\u001b[0m\u001b[0;34m.\u001b[0m\u001b[0mget_loc\u001b[0m\u001b[0;34m(\u001b[0m\u001b[0mcasted_key\u001b[0m\u001b[0;34m)\u001b[0m\u001b[0;34m\u001b[0m\u001b[0;34m\u001b[0m\u001b[0m\n\u001b[1;32m   3362\u001b[0m             \u001b[0;32mexcept\u001b[0m \u001b[0mKeyError\u001b[0m \u001b[0;32mas\u001b[0m \u001b[0merr\u001b[0m\u001b[0;34m:\u001b[0m\u001b[0;34m\u001b[0m\u001b[0;34m\u001b[0m\u001b[0m\n\u001b[0;32m-> 3363\u001b[0;31m                 \u001b[0;32mraise\u001b[0m \u001b[0mKeyError\u001b[0m\u001b[0;34m(\u001b[0m\u001b[0mkey\u001b[0m\u001b[0;34m)\u001b[0m \u001b[0;32mfrom\u001b[0m \u001b[0merr\u001b[0m\u001b[0;34m\u001b[0m\u001b[0;34m\u001b[0m\u001b[0m\n\u001b[0m\u001b[1;32m   3364\u001b[0m \u001b[0;34m\u001b[0m\u001b[0m\n\u001b[1;32m   3365\u001b[0m         \u001b[0;32mif\u001b[0m \u001b[0mis_scalar\u001b[0m\u001b[0;34m(\u001b[0m\u001b[0mkey\u001b[0m\u001b[0;34m)\u001b[0m \u001b[0;32mand\u001b[0m \u001b[0misna\u001b[0m\u001b[0;34m(\u001b[0m\u001b[0mkey\u001b[0m\u001b[0;34m)\u001b[0m \u001b[0;32mand\u001b[0m \u001b[0;32mnot\u001b[0m \u001b[0mself\u001b[0m\u001b[0;34m.\u001b[0m\u001b[0mhasnans\u001b[0m\u001b[0;34m:\u001b[0m\u001b[0;34m\u001b[0m\u001b[0;34m\u001b[0m\u001b[0m\n",
            "\u001b[0;31mKeyError\u001b[0m: 'time_delta'"
          ]
        }
      ]
    },
    {
      "cell_type": "code",
      "source": [
        "def recreateTimeAndDateFeatures(Feature):\n",
        "  data['Y_'+Feature] = [d.year for d in data[Feature]]\n",
        "  data['M_'+Feature] = [d.month for d in data[Feature]]\n",
        "  data['D_'+Feature] = [d.day for d in data[Feature]]\n",
        "  data['H_'+Feature] = [d.hour for d in data[Feature]]\n",
        "  data['M_'+Feature] = [d.minute for d in data[Feature]]\n",
        "\n",
        "\n",
        "\n",
        "recreateTimeAndDateFeatures('location_arrival_date')\n",
        "recreateTimeAndDateFeatures('location_departure_date')\n",
        "recreateTimeAndDateFeatures('origin_departure_date')\n",
        "recreateTimeAndDateFeatures('train_arrival_date')\n",
        "data.drop(['location_arrival_date','location_departure_date','origin_departure_date','train_arrival_date'],inplace=True,axis=1)"
      ],
      "metadata": {
        "id": "9Vp85BZCmIO6"
      },
      "execution_count": null,
      "outputs": []
    },
    {
      "cell_type": "code",
      "source": [
        "data.head()"
      ],
      "metadata": {
        "id": "Psnl08CYpLMl"
      },
      "execution_count": null,
      "outputs": []
    },
    {
      "cell_type": "code",
      "source": [
        "data.info()"
      ],
      "metadata": {
        "id": "uEiccIf_qYXE"
      },
      "execution_count": null,
      "outputs": []
    },
    {
      "cell_type": "code",
      "source": [
        "\n",
        "\n",
        "\n"
      ],
      "metadata": {
        "id": "HFrTnpAr_sQs"
      },
      "execution_count": null,
      "outputs": []
    },
    {
      "cell_type": "markdown",
      "source": [
        "<h1> Visualization⌛"
      ],
      "metadata": {
        "id": "XgAEDllXuO4U"
      }
    },
    {
      "cell_type": "code",
      "source": [
        "import seaborn as sns"
      ],
      "metadata": {
        "id": "o3DepGGquOsk"
      },
      "execution_count": null,
      "outputs": []
    },
    {
      "cell_type": "code",
      "source": [
        "\n",
        "sns.displot(data=data, x=\"Y_origin_departure_date\", kind=\"kde\")"
      ],
      "metadata": {
        "id": "wI-bV4txuMZe"
      },
      "execution_count": null,
      "outputs": []
    },
    {
      "cell_type": "code",
      "source": [
        "\n",
        "sns.displot(data=data, x=\"D_origin_departure_date\")\n",
        "sns.displot(data=data, x=\"D_train_arrival_date\")\n"
      ],
      "metadata": {
        "id": "0qWsHNc1uFbY"
      },
      "execution_count": null,
      "outputs": []
    },
    {
      "cell_type": "code",
      "source": [
        "sns.histplot(data=data,x='H_train_arrival_date',y='D_train_arrival_date')"
      ],
      "metadata": {
        "id": "fu-AaraO-qcw"
      },
      "execution_count": null,
      "outputs": []
    },
    {
      "cell_type": "code",
      "source": [
        "sns.displot(data=data, x=\"H_origin_departure_date\")\n",
        "sns.displot(data=data, x=\"H_train_arrival_date\")"
      ],
      "metadata": {
        "id": "emWtGlZV_ZT1"
      },
      "execution_count": null,
      "outputs": []
    },
    {
      "cell_type": "code",
      "source": [
        "sns.displot(data=data, x=\"M_origin_departure_date\")\n",
        "sns.displot(data=data, x=\"M_train_arrival_date\")"
      ],
      "metadata": {
        "id": "61Yr5stu_jft"
      },
      "execution_count": null,
      "outputs": []
    }
  ]
}