{
  "nbformat": 4,
  "nbformat_minor": 0,
  "metadata": {
    "colab": {
      "name": "ZEP_task_Retail _shipping _goods_usa.ipynb",
      "provenance": [],
      "collapsed_sections": [],
      "authorship_tag": "ABX9TyO/lby7Ah49lMRrwVwoLYRm",
      "include_colab_link": true
    },
    "kernelspec": {
      "name": "python3",
      "display_name": "Python 3"
    },
    "language_info": {
      "name": "python"
    }
  },
  "cells": [
    {
      "cell_type": "markdown",
      "metadata": {
        "id": "view-in-github",
        "colab_type": "text"
      },
      "source": [
        "<a href=\"https://colab.research.google.com/github/abou-zithar/ZEP_task_Retail__shipping__goods_to_USA/blob/main/ZEP_task_Retail__shipping__goods_usa.ipynb\" target=\"_parent\"><img src=\"https://colab.research.google.com/assets/colab-badge.svg\" alt=\"Open In Colab\"/></a>"
      ]
    },
    {
      "cell_type": "code",
      "execution_count": 1,
      "metadata": {
        "id": "byMZ6j9sixG_"
      },
      "outputs": [],
      "source": [
        "#import lib\n",
        "import pandas as pd \n",
        "import numpy as np\n",
        "import matplotlib.pyplot as plt"
      ]
    },
    {
      "cell_type": "code",
      "source": [
        "# connect to drive \n",
        "from google.colab import drive\n",
        "drive.mount('/content/drive')"
      ],
      "metadata": {
        "colab": {
          "base_uri": "https://localhost:8080/"
        },
        "id": "uMTOrk3ljWD3",
        "outputId": "8936759f-90ae-4978-ff54-9ca251956b84"
      },
      "execution_count": 2,
      "outputs": [
        {
          "output_type": "stream",
          "name": "stdout",
          "text": [
            "Mounted at /content/drive\n"
          ]
        }
      ]
    },
    {
      "cell_type": "code",
      "source": [
        "# use pandas to read data \n",
        "filepath='/content/drive/MyDrive/datasets/ZepDataSet.xlsx'\n",
        "data=pd.read_excel(filepath,parse_dates=['location_arrival_date','location_departure_date','origin_departure_date','train_arrival_date'])"
      ],
      "metadata": {
        "id": "bdBDU8Xhjp5n"
      },
      "execution_count": 3,
      "outputs": []
    },
    {
      "cell_type": "code",
      "source": [
        "data.head()"
      ],
      "metadata": {
        "colab": {
          "base_uri": "https://localhost:8080/",
          "height": 322
        },
        "id": "VyWQ3Ijej1bc",
        "outputId": "431f9820-1197-4064-ee19-85bf9551f2d0"
      },
      "execution_count": 4,
      "outputs": [
        {
          "output_type": "execute_result",
          "data": {
            "text/plain": [
              "                               tripuid origin_location destination_location  \\\n",
              "0  10054656400104001315859000566790000   STEHEIGHT, MI            VOLTZ, MO   \n",
              "1  10054656400104001315859000566790000   STEHEIGHT, MI            VOLTZ, MO   \n",
              "2  10054656400104001315859000566790000   STEHEIGHT, MI            VOLTZ, MO   \n",
              "3  10054656400104001315859000566790000   STEHEIGHT, MI            VOLTZ, MO   \n",
              "4  10054656400104001315859000566790000   STEHEIGHT, MI            VOLTZ, MO   \n",
              "\n",
              "        sighting_location  sighting_location_lat  sighting_location_lon  \\\n",
              "0    STERLING HEIGHTS, MI              42.537908             -83.037650   \n",
              "1              WARREN, MI              42.499210             -83.037413   \n",
              "2    DETROIT STERLING, MI              42.572998             -83.040002   \n",
              "3  DETROIT NORTH YARD, MI              42.406106             -83.037049   \n",
              "4             OAKWOOD, MI              42.278053             -83.170834   \n",
              "\n",
              "  location_arrival_date location_departure_date origin_departure_date  \\\n",
              "0   2021-04-30 19:28:00     2021-04-30 19:28:00   2021-04-30 19:28:00   \n",
              "1   2021-04-30 21:45:00     2021-04-30 21:46:00   2021-04-30 19:28:00   \n",
              "2   2021-05-01 00:00:00     2021-05-01 12:30:00   2021-04-30 19:28:00   \n",
              "3   2021-05-01 13:30:00     2021-05-01 15:30:00   2021-04-30 19:28:00   \n",
              "4   2021-05-01 18:17:00     2021-05-01 18:17:00   2021-04-30 19:28:00   \n",
              "\n",
              "   train_arrival_date  \n",
              "0 2021-05-03 12:21:00  \n",
              "1 2021-05-03 12:21:00  \n",
              "2 2021-05-03 12:21:00  \n",
              "3 2021-05-03 12:21:00  \n",
              "4 2021-05-03 12:21:00  "
            ],
            "text/html": [
              "\n",
              "  <div id=\"df-cc53996d-5501-4d1e-be8d-fb52ad3917a9\">\n",
              "    <div class=\"colab-df-container\">\n",
              "      <div>\n",
              "<style scoped>\n",
              "    .dataframe tbody tr th:only-of-type {\n",
              "        vertical-align: middle;\n",
              "    }\n",
              "\n",
              "    .dataframe tbody tr th {\n",
              "        vertical-align: top;\n",
              "    }\n",
              "\n",
              "    .dataframe thead th {\n",
              "        text-align: right;\n",
              "    }\n",
              "</style>\n",
              "<table border=\"1\" class=\"dataframe\">\n",
              "  <thead>\n",
              "    <tr style=\"text-align: right;\">\n",
              "      <th></th>\n",
              "      <th>tripuid</th>\n",
              "      <th>origin_location</th>\n",
              "      <th>destination_location</th>\n",
              "      <th>sighting_location</th>\n",
              "      <th>sighting_location_lat</th>\n",
              "      <th>sighting_location_lon</th>\n",
              "      <th>location_arrival_date</th>\n",
              "      <th>location_departure_date</th>\n",
              "      <th>origin_departure_date</th>\n",
              "      <th>train_arrival_date</th>\n",
              "    </tr>\n",
              "  </thead>\n",
              "  <tbody>\n",
              "    <tr>\n",
              "      <th>0</th>\n",
              "      <td>10054656400104001315859000566790000</td>\n",
              "      <td>STEHEIGHT, MI</td>\n",
              "      <td>VOLTZ, MO</td>\n",
              "      <td>STERLING HEIGHTS, MI</td>\n",
              "      <td>42.537908</td>\n",
              "      <td>-83.037650</td>\n",
              "      <td>2021-04-30 19:28:00</td>\n",
              "      <td>2021-04-30 19:28:00</td>\n",
              "      <td>2021-04-30 19:28:00</td>\n",
              "      <td>2021-05-03 12:21:00</td>\n",
              "    </tr>\n",
              "    <tr>\n",
              "      <th>1</th>\n",
              "      <td>10054656400104001315859000566790000</td>\n",
              "      <td>STEHEIGHT, MI</td>\n",
              "      <td>VOLTZ, MO</td>\n",
              "      <td>WARREN, MI</td>\n",
              "      <td>42.499210</td>\n",
              "      <td>-83.037413</td>\n",
              "      <td>2021-04-30 21:45:00</td>\n",
              "      <td>2021-04-30 21:46:00</td>\n",
              "      <td>2021-04-30 19:28:00</td>\n",
              "      <td>2021-05-03 12:21:00</td>\n",
              "    </tr>\n",
              "    <tr>\n",
              "      <th>2</th>\n",
              "      <td>10054656400104001315859000566790000</td>\n",
              "      <td>STEHEIGHT, MI</td>\n",
              "      <td>VOLTZ, MO</td>\n",
              "      <td>DETROIT STERLING, MI</td>\n",
              "      <td>42.572998</td>\n",
              "      <td>-83.040002</td>\n",
              "      <td>2021-05-01 00:00:00</td>\n",
              "      <td>2021-05-01 12:30:00</td>\n",
              "      <td>2021-04-30 19:28:00</td>\n",
              "      <td>2021-05-03 12:21:00</td>\n",
              "    </tr>\n",
              "    <tr>\n",
              "      <th>3</th>\n",
              "      <td>10054656400104001315859000566790000</td>\n",
              "      <td>STEHEIGHT, MI</td>\n",
              "      <td>VOLTZ, MO</td>\n",
              "      <td>DETROIT NORTH YARD, MI</td>\n",
              "      <td>42.406106</td>\n",
              "      <td>-83.037049</td>\n",
              "      <td>2021-05-01 13:30:00</td>\n",
              "      <td>2021-05-01 15:30:00</td>\n",
              "      <td>2021-04-30 19:28:00</td>\n",
              "      <td>2021-05-03 12:21:00</td>\n",
              "    </tr>\n",
              "    <tr>\n",
              "      <th>4</th>\n",
              "      <td>10054656400104001315859000566790000</td>\n",
              "      <td>STEHEIGHT, MI</td>\n",
              "      <td>VOLTZ, MO</td>\n",
              "      <td>OAKWOOD, MI</td>\n",
              "      <td>42.278053</td>\n",
              "      <td>-83.170834</td>\n",
              "      <td>2021-05-01 18:17:00</td>\n",
              "      <td>2021-05-01 18:17:00</td>\n",
              "      <td>2021-04-30 19:28:00</td>\n",
              "      <td>2021-05-03 12:21:00</td>\n",
              "    </tr>\n",
              "  </tbody>\n",
              "</table>\n",
              "</div>\n",
              "      <button class=\"colab-df-convert\" onclick=\"convertToInteractive('df-cc53996d-5501-4d1e-be8d-fb52ad3917a9')\"\n",
              "              title=\"Convert this dataframe to an interactive table.\"\n",
              "              style=\"display:none;\">\n",
              "        \n",
              "  <svg xmlns=\"http://www.w3.org/2000/svg\" height=\"24px\"viewBox=\"0 0 24 24\"\n",
              "       width=\"24px\">\n",
              "    <path d=\"M0 0h24v24H0V0z\" fill=\"none\"/>\n",
              "    <path d=\"M18.56 5.44l.94 2.06.94-2.06 2.06-.94-2.06-.94-.94-2.06-.94 2.06-2.06.94zm-11 1L8.5 8.5l.94-2.06 2.06-.94-2.06-.94L8.5 2.5l-.94 2.06-2.06.94zm10 10l.94 2.06.94-2.06 2.06-.94-2.06-.94-.94-2.06-.94 2.06-2.06.94z\"/><path d=\"M17.41 7.96l-1.37-1.37c-.4-.4-.92-.59-1.43-.59-.52 0-1.04.2-1.43.59L10.3 9.45l-7.72 7.72c-.78.78-.78 2.05 0 2.83L4 21.41c.39.39.9.59 1.41.59.51 0 1.02-.2 1.41-.59l7.78-7.78 2.81-2.81c.8-.78.8-2.07 0-2.86zM5.41 20L4 18.59l7.72-7.72 1.47 1.35L5.41 20z\"/>\n",
              "  </svg>\n",
              "      </button>\n",
              "      \n",
              "  <style>\n",
              "    .colab-df-container {\n",
              "      display:flex;\n",
              "      flex-wrap:wrap;\n",
              "      gap: 12px;\n",
              "    }\n",
              "\n",
              "    .colab-df-convert {\n",
              "      background-color: #E8F0FE;\n",
              "      border: none;\n",
              "      border-radius: 50%;\n",
              "      cursor: pointer;\n",
              "      display: none;\n",
              "      fill: #1967D2;\n",
              "      height: 32px;\n",
              "      padding: 0 0 0 0;\n",
              "      width: 32px;\n",
              "    }\n",
              "\n",
              "    .colab-df-convert:hover {\n",
              "      background-color: #E2EBFA;\n",
              "      box-shadow: 0px 1px 2px rgba(60, 64, 67, 0.3), 0px 1px 3px 1px rgba(60, 64, 67, 0.15);\n",
              "      fill: #174EA6;\n",
              "    }\n",
              "\n",
              "    [theme=dark] .colab-df-convert {\n",
              "      background-color: #3B4455;\n",
              "      fill: #D2E3FC;\n",
              "    }\n",
              "\n",
              "    [theme=dark] .colab-df-convert:hover {\n",
              "      background-color: #434B5C;\n",
              "      box-shadow: 0px 1px 3px 1px rgba(0, 0, 0, 0.15);\n",
              "      filter: drop-shadow(0px 1px 2px rgba(0, 0, 0, 0.3));\n",
              "      fill: #FFFFFF;\n",
              "    }\n",
              "  </style>\n",
              "\n",
              "      <script>\n",
              "        const buttonEl =\n",
              "          document.querySelector('#df-cc53996d-5501-4d1e-be8d-fb52ad3917a9 button.colab-df-convert');\n",
              "        buttonEl.style.display =\n",
              "          google.colab.kernel.accessAllowed ? 'block' : 'none';\n",
              "\n",
              "        async function convertToInteractive(key) {\n",
              "          const element = document.querySelector('#df-cc53996d-5501-4d1e-be8d-fb52ad3917a9');\n",
              "          const dataTable =\n",
              "            await google.colab.kernel.invokeFunction('convertToInteractive',\n",
              "                                                     [key], {});\n",
              "          if (!dataTable) return;\n",
              "\n",
              "          const docLinkHtml = 'Like what you see? Visit the ' +\n",
              "            '<a target=\"_blank\" href=https://colab.research.google.com/notebooks/data_table.ipynb>data table notebook</a>'\n",
              "            + ' to learn more about interactive tables.';\n",
              "          element.innerHTML = '';\n",
              "          dataTable['output_type'] = 'display_data';\n",
              "          await google.colab.output.renderOutput(dataTable, element);\n",
              "          const docLink = document.createElement('div');\n",
              "          docLink.innerHTML = docLinkHtml;\n",
              "          element.appendChild(docLink);\n",
              "        }\n",
              "      </script>\n",
              "    </div>\n",
              "  </div>\n",
              "  "
            ]
          },
          "metadata": {},
          "execution_count": 4
        }
      ]
    },
    {
      "cell_type": "code",
      "source": [
        "data.tail()"
      ],
      "metadata": {
        "colab": {
          "base_uri": "https://localhost:8080/",
          "height": 287
        },
        "id": "WIxYUZHc3M8O",
        "outputId": "58e19721-4430-460b-ff44-621ef9dcc06c"
      },
      "execution_count": 5,
      "outputs": [
        {
          "output_type": "execute_result",
          "data": {
            "text/plain": [
              "                                  tripuid origin_location  \\\n",
              "1605  10063453900023001315859000566790000   STEHEIGHT, MI   \n",
              "1606  10063453900023001315859000566790000   STEHEIGHT, MI   \n",
              "1607  10063453900023001315859000566790000   STEHEIGHT, MI   \n",
              "1608  10063453900023001315859000566790000   STEHEIGHT, MI   \n",
              "1609  10063453900023001315859000566790000   STEHEIGHT, MI   \n",
              "\n",
              "     destination_location  sighting_location  sighting_location_lat  \\\n",
              "1605            VOLTZ, MO        CLAPPER, MO              39.588213   \n",
              "1606            VOLTZ, MO        MOBERLY, MO              39.419797   \n",
              "1607            VOLTZ, MO   CLIFTON HILL, MO              39.438175   \n",
              "1608            VOLTZ, MO  MISSOURI CITY, MO              39.223788   \n",
              "1609            VOLTZ, MO          VOLTZ, MO              39.186341   \n",
              "\n",
              "      sighting_location_lon location_arrival_date location_departure_date  \\\n",
              "1605             -91.845766   2020-08-13 04:24:00     2020-08-13 04:24:00   \n",
              "1606             -92.436711   2020-08-13 05:23:00     2020-08-13 05:43:00   \n",
              "1607             -92.665850   2020-08-13 07:01:00     2020-08-13 07:01:00   \n",
              "1608             -94.321008   2020-08-13 12:25:00     2020-08-13 12:25:00   \n",
              "1609             -94.429775   2020-08-13 13:24:00     2020-08-13 16:30:00   \n",
              "\n",
              "     origin_departure_date  train_arrival_date  \n",
              "1605   2020-08-11 04:24:00 2020-08-13 13:24:00  \n",
              "1606   2020-08-11 04:24:00 2020-08-13 13:24:00  \n",
              "1607   2020-08-11 04:24:00 2020-08-13 13:24:00  \n",
              "1608   2020-08-11 04:24:00 2020-08-13 13:24:00  \n",
              "1609   2020-08-11 04:24:00 2020-08-13 13:24:00  "
            ],
            "text/html": [
              "\n",
              "  <div id=\"df-75d127be-2d2b-472f-9388-0420aa0ac2bc\">\n",
              "    <div class=\"colab-df-container\">\n",
              "      <div>\n",
              "<style scoped>\n",
              "    .dataframe tbody tr th:only-of-type {\n",
              "        vertical-align: middle;\n",
              "    }\n",
              "\n",
              "    .dataframe tbody tr th {\n",
              "        vertical-align: top;\n",
              "    }\n",
              "\n",
              "    .dataframe thead th {\n",
              "        text-align: right;\n",
              "    }\n",
              "</style>\n",
              "<table border=\"1\" class=\"dataframe\">\n",
              "  <thead>\n",
              "    <tr style=\"text-align: right;\">\n",
              "      <th></th>\n",
              "      <th>tripuid</th>\n",
              "      <th>origin_location</th>\n",
              "      <th>destination_location</th>\n",
              "      <th>sighting_location</th>\n",
              "      <th>sighting_location_lat</th>\n",
              "      <th>sighting_location_lon</th>\n",
              "      <th>location_arrival_date</th>\n",
              "      <th>location_departure_date</th>\n",
              "      <th>origin_departure_date</th>\n",
              "      <th>train_arrival_date</th>\n",
              "    </tr>\n",
              "  </thead>\n",
              "  <tbody>\n",
              "    <tr>\n",
              "      <th>1605</th>\n",
              "      <td>10063453900023001315859000566790000</td>\n",
              "      <td>STEHEIGHT, MI</td>\n",
              "      <td>VOLTZ, MO</td>\n",
              "      <td>CLAPPER, MO</td>\n",
              "      <td>39.588213</td>\n",
              "      <td>-91.845766</td>\n",
              "      <td>2020-08-13 04:24:00</td>\n",
              "      <td>2020-08-13 04:24:00</td>\n",
              "      <td>2020-08-11 04:24:00</td>\n",
              "      <td>2020-08-13 13:24:00</td>\n",
              "    </tr>\n",
              "    <tr>\n",
              "      <th>1606</th>\n",
              "      <td>10063453900023001315859000566790000</td>\n",
              "      <td>STEHEIGHT, MI</td>\n",
              "      <td>VOLTZ, MO</td>\n",
              "      <td>MOBERLY, MO</td>\n",
              "      <td>39.419797</td>\n",
              "      <td>-92.436711</td>\n",
              "      <td>2020-08-13 05:23:00</td>\n",
              "      <td>2020-08-13 05:43:00</td>\n",
              "      <td>2020-08-11 04:24:00</td>\n",
              "      <td>2020-08-13 13:24:00</td>\n",
              "    </tr>\n",
              "    <tr>\n",
              "      <th>1607</th>\n",
              "      <td>10063453900023001315859000566790000</td>\n",
              "      <td>STEHEIGHT, MI</td>\n",
              "      <td>VOLTZ, MO</td>\n",
              "      <td>CLIFTON HILL, MO</td>\n",
              "      <td>39.438175</td>\n",
              "      <td>-92.665850</td>\n",
              "      <td>2020-08-13 07:01:00</td>\n",
              "      <td>2020-08-13 07:01:00</td>\n",
              "      <td>2020-08-11 04:24:00</td>\n",
              "      <td>2020-08-13 13:24:00</td>\n",
              "    </tr>\n",
              "    <tr>\n",
              "      <th>1608</th>\n",
              "      <td>10063453900023001315859000566790000</td>\n",
              "      <td>STEHEIGHT, MI</td>\n",
              "      <td>VOLTZ, MO</td>\n",
              "      <td>MISSOURI CITY, MO</td>\n",
              "      <td>39.223788</td>\n",
              "      <td>-94.321008</td>\n",
              "      <td>2020-08-13 12:25:00</td>\n",
              "      <td>2020-08-13 12:25:00</td>\n",
              "      <td>2020-08-11 04:24:00</td>\n",
              "      <td>2020-08-13 13:24:00</td>\n",
              "    </tr>\n",
              "    <tr>\n",
              "      <th>1609</th>\n",
              "      <td>10063453900023001315859000566790000</td>\n",
              "      <td>STEHEIGHT, MI</td>\n",
              "      <td>VOLTZ, MO</td>\n",
              "      <td>VOLTZ, MO</td>\n",
              "      <td>39.186341</td>\n",
              "      <td>-94.429775</td>\n",
              "      <td>2020-08-13 13:24:00</td>\n",
              "      <td>2020-08-13 16:30:00</td>\n",
              "      <td>2020-08-11 04:24:00</td>\n",
              "      <td>2020-08-13 13:24:00</td>\n",
              "    </tr>\n",
              "  </tbody>\n",
              "</table>\n",
              "</div>\n",
              "      <button class=\"colab-df-convert\" onclick=\"convertToInteractive('df-75d127be-2d2b-472f-9388-0420aa0ac2bc')\"\n",
              "              title=\"Convert this dataframe to an interactive table.\"\n",
              "              style=\"display:none;\">\n",
              "        \n",
              "  <svg xmlns=\"http://www.w3.org/2000/svg\" height=\"24px\"viewBox=\"0 0 24 24\"\n",
              "       width=\"24px\">\n",
              "    <path d=\"M0 0h24v24H0V0z\" fill=\"none\"/>\n",
              "    <path d=\"M18.56 5.44l.94 2.06.94-2.06 2.06-.94-2.06-.94-.94-2.06-.94 2.06-2.06.94zm-11 1L8.5 8.5l.94-2.06 2.06-.94-2.06-.94L8.5 2.5l-.94 2.06-2.06.94zm10 10l.94 2.06.94-2.06 2.06-.94-2.06-.94-.94-2.06-.94 2.06-2.06.94z\"/><path d=\"M17.41 7.96l-1.37-1.37c-.4-.4-.92-.59-1.43-.59-.52 0-1.04.2-1.43.59L10.3 9.45l-7.72 7.72c-.78.78-.78 2.05 0 2.83L4 21.41c.39.39.9.59 1.41.59.51 0 1.02-.2 1.41-.59l7.78-7.78 2.81-2.81c.8-.78.8-2.07 0-2.86zM5.41 20L4 18.59l7.72-7.72 1.47 1.35L5.41 20z\"/>\n",
              "  </svg>\n",
              "      </button>\n",
              "      \n",
              "  <style>\n",
              "    .colab-df-container {\n",
              "      display:flex;\n",
              "      flex-wrap:wrap;\n",
              "      gap: 12px;\n",
              "    }\n",
              "\n",
              "    .colab-df-convert {\n",
              "      background-color: #E8F0FE;\n",
              "      border: none;\n",
              "      border-radius: 50%;\n",
              "      cursor: pointer;\n",
              "      display: none;\n",
              "      fill: #1967D2;\n",
              "      height: 32px;\n",
              "      padding: 0 0 0 0;\n",
              "      width: 32px;\n",
              "    }\n",
              "\n",
              "    .colab-df-convert:hover {\n",
              "      background-color: #E2EBFA;\n",
              "      box-shadow: 0px 1px 2px rgba(60, 64, 67, 0.3), 0px 1px 3px 1px rgba(60, 64, 67, 0.15);\n",
              "      fill: #174EA6;\n",
              "    }\n",
              "\n",
              "    [theme=dark] .colab-df-convert {\n",
              "      background-color: #3B4455;\n",
              "      fill: #D2E3FC;\n",
              "    }\n",
              "\n",
              "    [theme=dark] .colab-df-convert:hover {\n",
              "      background-color: #434B5C;\n",
              "      box-shadow: 0px 1px 3px 1px rgba(0, 0, 0, 0.15);\n",
              "      filter: drop-shadow(0px 1px 2px rgba(0, 0, 0, 0.3));\n",
              "      fill: #FFFFFF;\n",
              "    }\n",
              "  </style>\n",
              "\n",
              "      <script>\n",
              "        const buttonEl =\n",
              "          document.querySelector('#df-75d127be-2d2b-472f-9388-0420aa0ac2bc button.colab-df-convert');\n",
              "        buttonEl.style.display =\n",
              "          google.colab.kernel.accessAllowed ? 'block' : 'none';\n",
              "\n",
              "        async function convertToInteractive(key) {\n",
              "          const element = document.querySelector('#df-75d127be-2d2b-472f-9388-0420aa0ac2bc');\n",
              "          const dataTable =\n",
              "            await google.colab.kernel.invokeFunction('convertToInteractive',\n",
              "                                                     [key], {});\n",
              "          if (!dataTable) return;\n",
              "\n",
              "          const docLinkHtml = 'Like what you see? Visit the ' +\n",
              "            '<a target=\"_blank\" href=https://colab.research.google.com/notebooks/data_table.ipynb>data table notebook</a>'\n",
              "            + ' to learn more about interactive tables.';\n",
              "          element.innerHTML = '';\n",
              "          dataTable['output_type'] = 'display_data';\n",
              "          await google.colab.output.renderOutput(dataTable, element);\n",
              "          const docLink = document.createElement('div');\n",
              "          docLink.innerHTML = docLinkHtml;\n",
              "          element.appendChild(docLink);\n",
              "        }\n",
              "      </script>\n",
              "    </div>\n",
              "  </div>\n",
              "  "
            ]
          },
          "metadata": {},
          "execution_count": 5
        }
      ]
    },
    {
      "cell_type": "code",
      "source": [
        "data.drop(['tripuid'],inplace=True,axis=1)"
      ],
      "metadata": {
        "id": "mZ5_PhPcj59J"
      },
      "execution_count": 6,
      "outputs": []
    },
    {
      "cell_type": "code",
      "source": [
        "data['origin_location'].unique()"
      ],
      "metadata": {
        "colab": {
          "base_uri": "https://localhost:8080/"
        },
        "id": "gVPMUtGSlGU6",
        "outputId": "46bc0f18-149a-4cb7-ade6-ed06f2fce6a4"
      },
      "execution_count": 7,
      "outputs": [
        {
          "output_type": "execute_result",
          "data": {
            "text/plain": [
              "array(['STEHEIGHT, MI'], dtype=object)"
            ]
          },
          "metadata": {},
          "execution_count": 7
        }
      ]
    },
    {
      "cell_type": "code",
      "source": [
        "data['destination_location'].unique()"
      ],
      "metadata": {
        "colab": {
          "base_uri": "https://localhost:8080/"
        },
        "id": "hC3PPL9vlLi3",
        "outputId": "5fd038a2-7088-4744-8c09-f298ce5200a4"
      },
      "execution_count": 8,
      "outputs": [
        {
          "output_type": "execute_result",
          "data": {
            "text/plain": [
              "array(['VOLTZ, MO'], dtype=object)"
            ]
          },
          "metadata": {},
          "execution_count": 8
        }
      ]
    },
    {
      "cell_type": "code",
      "source": [
        "data.drop(['destination_location','origin_location'],inplace=True,axis=1)"
      ],
      "metadata": {
        "id": "4nFwfRFEln-Z"
      },
      "execution_count": 9,
      "outputs": []
    },
    {
      "cell_type": "code",
      "source": [
        "data.duplicated().sum()"
      ],
      "metadata": {
        "colab": {
          "base_uri": "https://localhost:8080/"
        },
        "id": "f1fwHvNilPCK",
        "outputId": "6c8e5661-c388-4ea5-a3be-f228ce0f4ece"
      },
      "execution_count": 10,
      "outputs": [
        {
          "output_type": "execute_result",
          "data": {
            "text/plain": [
              "2"
            ]
          },
          "metadata": {},
          "execution_count": 10
        }
      ]
    },
    {
      "cell_type": "code",
      "source": [
        "data.drop_duplicates(inplace=True)"
      ],
      "metadata": {
        "id": "jnTVz6MblbgP"
      },
      "execution_count": 11,
      "outputs": []
    },
    {
      "cell_type": "code",
      "source": [
        "data.head()"
      ],
      "metadata": {
        "colab": {
          "base_uri": "https://localhost:8080/",
          "height": 206
        },
        "id": "GAX_24mZliXP",
        "outputId": "3f2164e0-9b08-419b-8309-69e2219fc860"
      },
      "execution_count": 12,
      "outputs": [
        {
          "output_type": "execute_result",
          "data": {
            "text/plain": [
              "        sighting_location  sighting_location_lat  sighting_location_lon  \\\n",
              "0    STERLING HEIGHTS, MI              42.537908             -83.037650   \n",
              "1              WARREN, MI              42.499210             -83.037413   \n",
              "2    DETROIT STERLING, MI              42.572998             -83.040002   \n",
              "3  DETROIT NORTH YARD, MI              42.406106             -83.037049   \n",
              "4             OAKWOOD, MI              42.278053             -83.170834   \n",
              "\n",
              "  location_arrival_date location_departure_date origin_departure_date  \\\n",
              "0   2021-04-30 19:28:00     2021-04-30 19:28:00   2021-04-30 19:28:00   \n",
              "1   2021-04-30 21:45:00     2021-04-30 21:46:00   2021-04-30 19:28:00   \n",
              "2   2021-05-01 00:00:00     2021-05-01 12:30:00   2021-04-30 19:28:00   \n",
              "3   2021-05-01 13:30:00     2021-05-01 15:30:00   2021-04-30 19:28:00   \n",
              "4   2021-05-01 18:17:00     2021-05-01 18:17:00   2021-04-30 19:28:00   \n",
              "\n",
              "   train_arrival_date  \n",
              "0 2021-05-03 12:21:00  \n",
              "1 2021-05-03 12:21:00  \n",
              "2 2021-05-03 12:21:00  \n",
              "3 2021-05-03 12:21:00  \n",
              "4 2021-05-03 12:21:00  "
            ],
            "text/html": [
              "\n",
              "  <div id=\"df-378f560d-6a75-46fa-9054-2fc03e9d6ce3\">\n",
              "    <div class=\"colab-df-container\">\n",
              "      <div>\n",
              "<style scoped>\n",
              "    .dataframe tbody tr th:only-of-type {\n",
              "        vertical-align: middle;\n",
              "    }\n",
              "\n",
              "    .dataframe tbody tr th {\n",
              "        vertical-align: top;\n",
              "    }\n",
              "\n",
              "    .dataframe thead th {\n",
              "        text-align: right;\n",
              "    }\n",
              "</style>\n",
              "<table border=\"1\" class=\"dataframe\">\n",
              "  <thead>\n",
              "    <tr style=\"text-align: right;\">\n",
              "      <th></th>\n",
              "      <th>sighting_location</th>\n",
              "      <th>sighting_location_lat</th>\n",
              "      <th>sighting_location_lon</th>\n",
              "      <th>location_arrival_date</th>\n",
              "      <th>location_departure_date</th>\n",
              "      <th>origin_departure_date</th>\n",
              "      <th>train_arrival_date</th>\n",
              "    </tr>\n",
              "  </thead>\n",
              "  <tbody>\n",
              "    <tr>\n",
              "      <th>0</th>\n",
              "      <td>STERLING HEIGHTS, MI</td>\n",
              "      <td>42.537908</td>\n",
              "      <td>-83.037650</td>\n",
              "      <td>2021-04-30 19:28:00</td>\n",
              "      <td>2021-04-30 19:28:00</td>\n",
              "      <td>2021-04-30 19:28:00</td>\n",
              "      <td>2021-05-03 12:21:00</td>\n",
              "    </tr>\n",
              "    <tr>\n",
              "      <th>1</th>\n",
              "      <td>WARREN, MI</td>\n",
              "      <td>42.499210</td>\n",
              "      <td>-83.037413</td>\n",
              "      <td>2021-04-30 21:45:00</td>\n",
              "      <td>2021-04-30 21:46:00</td>\n",
              "      <td>2021-04-30 19:28:00</td>\n",
              "      <td>2021-05-03 12:21:00</td>\n",
              "    </tr>\n",
              "    <tr>\n",
              "      <th>2</th>\n",
              "      <td>DETROIT STERLING, MI</td>\n",
              "      <td>42.572998</td>\n",
              "      <td>-83.040002</td>\n",
              "      <td>2021-05-01 00:00:00</td>\n",
              "      <td>2021-05-01 12:30:00</td>\n",
              "      <td>2021-04-30 19:28:00</td>\n",
              "      <td>2021-05-03 12:21:00</td>\n",
              "    </tr>\n",
              "    <tr>\n",
              "      <th>3</th>\n",
              "      <td>DETROIT NORTH YARD, MI</td>\n",
              "      <td>42.406106</td>\n",
              "      <td>-83.037049</td>\n",
              "      <td>2021-05-01 13:30:00</td>\n",
              "      <td>2021-05-01 15:30:00</td>\n",
              "      <td>2021-04-30 19:28:00</td>\n",
              "      <td>2021-05-03 12:21:00</td>\n",
              "    </tr>\n",
              "    <tr>\n",
              "      <th>4</th>\n",
              "      <td>OAKWOOD, MI</td>\n",
              "      <td>42.278053</td>\n",
              "      <td>-83.170834</td>\n",
              "      <td>2021-05-01 18:17:00</td>\n",
              "      <td>2021-05-01 18:17:00</td>\n",
              "      <td>2021-04-30 19:28:00</td>\n",
              "      <td>2021-05-03 12:21:00</td>\n",
              "    </tr>\n",
              "  </tbody>\n",
              "</table>\n",
              "</div>\n",
              "      <button class=\"colab-df-convert\" onclick=\"convertToInteractive('df-378f560d-6a75-46fa-9054-2fc03e9d6ce3')\"\n",
              "              title=\"Convert this dataframe to an interactive table.\"\n",
              "              style=\"display:none;\">\n",
              "        \n",
              "  <svg xmlns=\"http://www.w3.org/2000/svg\" height=\"24px\"viewBox=\"0 0 24 24\"\n",
              "       width=\"24px\">\n",
              "    <path d=\"M0 0h24v24H0V0z\" fill=\"none\"/>\n",
              "    <path d=\"M18.56 5.44l.94 2.06.94-2.06 2.06-.94-2.06-.94-.94-2.06-.94 2.06-2.06.94zm-11 1L8.5 8.5l.94-2.06 2.06-.94-2.06-.94L8.5 2.5l-.94 2.06-2.06.94zm10 10l.94 2.06.94-2.06 2.06-.94-2.06-.94-.94-2.06-.94 2.06-2.06.94z\"/><path d=\"M17.41 7.96l-1.37-1.37c-.4-.4-.92-.59-1.43-.59-.52 0-1.04.2-1.43.59L10.3 9.45l-7.72 7.72c-.78.78-.78 2.05 0 2.83L4 21.41c.39.39.9.59 1.41.59.51 0 1.02-.2 1.41-.59l7.78-7.78 2.81-2.81c.8-.78.8-2.07 0-2.86zM5.41 20L4 18.59l7.72-7.72 1.47 1.35L5.41 20z\"/>\n",
              "  </svg>\n",
              "      </button>\n",
              "      \n",
              "  <style>\n",
              "    .colab-df-container {\n",
              "      display:flex;\n",
              "      flex-wrap:wrap;\n",
              "      gap: 12px;\n",
              "    }\n",
              "\n",
              "    .colab-df-convert {\n",
              "      background-color: #E8F0FE;\n",
              "      border: none;\n",
              "      border-radius: 50%;\n",
              "      cursor: pointer;\n",
              "      display: none;\n",
              "      fill: #1967D2;\n",
              "      height: 32px;\n",
              "      padding: 0 0 0 0;\n",
              "      width: 32px;\n",
              "    }\n",
              "\n",
              "    .colab-df-convert:hover {\n",
              "      background-color: #E2EBFA;\n",
              "      box-shadow: 0px 1px 2px rgba(60, 64, 67, 0.3), 0px 1px 3px 1px rgba(60, 64, 67, 0.15);\n",
              "      fill: #174EA6;\n",
              "    }\n",
              "\n",
              "    [theme=dark] .colab-df-convert {\n",
              "      background-color: #3B4455;\n",
              "      fill: #D2E3FC;\n",
              "    }\n",
              "\n",
              "    [theme=dark] .colab-df-convert:hover {\n",
              "      background-color: #434B5C;\n",
              "      box-shadow: 0px 1px 3px 1px rgba(0, 0, 0, 0.15);\n",
              "      filter: drop-shadow(0px 1px 2px rgba(0, 0, 0, 0.3));\n",
              "      fill: #FFFFFF;\n",
              "    }\n",
              "  </style>\n",
              "\n",
              "      <script>\n",
              "        const buttonEl =\n",
              "          document.querySelector('#df-378f560d-6a75-46fa-9054-2fc03e9d6ce3 button.colab-df-convert');\n",
              "        buttonEl.style.display =\n",
              "          google.colab.kernel.accessAllowed ? 'block' : 'none';\n",
              "\n",
              "        async function convertToInteractive(key) {\n",
              "          const element = document.querySelector('#df-378f560d-6a75-46fa-9054-2fc03e9d6ce3');\n",
              "          const dataTable =\n",
              "            await google.colab.kernel.invokeFunction('convertToInteractive',\n",
              "                                                     [key], {});\n",
              "          if (!dataTable) return;\n",
              "\n",
              "          const docLinkHtml = 'Like what you see? Visit the ' +\n",
              "            '<a target=\"_blank\" href=https://colab.research.google.com/notebooks/data_table.ipynb>data table notebook</a>'\n",
              "            + ' to learn more about interactive tables.';\n",
              "          element.innerHTML = '';\n",
              "          dataTable['output_type'] = 'display_data';\n",
              "          await google.colab.output.renderOutput(dataTable, element);\n",
              "          const docLink = document.createElement('div');\n",
              "          docLink.innerHTML = docLinkHtml;\n",
              "          element.appendChild(docLink);\n",
              "        }\n",
              "      </script>\n",
              "    </div>\n",
              "  </div>\n",
              "  "
            ]
          },
          "metadata": {},
          "execution_count": 12
        }
      ]
    },
    {
      "cell_type": "code",
      "source": [
        "data.tail()"
      ],
      "metadata": {
        "colab": {
          "base_uri": "https://localhost:8080/",
          "height": 206
        },
        "id": "AtvKvmn4nzwG",
        "outputId": "9c3d524d-279f-4789-9230-fdd0587bfad8"
      },
      "execution_count": 13,
      "outputs": [
        {
          "output_type": "execute_result",
          "data": {
            "text/plain": [
              "      sighting_location  sighting_location_lat  sighting_location_lon  \\\n",
              "1605        CLAPPER, MO              39.588213             -91.845766   \n",
              "1606        MOBERLY, MO              39.419797             -92.436711   \n",
              "1607   CLIFTON HILL, MO              39.438175             -92.665850   \n",
              "1608  MISSOURI CITY, MO              39.223788             -94.321008   \n",
              "1609          VOLTZ, MO              39.186341             -94.429775   \n",
              "\n",
              "     location_arrival_date location_departure_date origin_departure_date  \\\n",
              "1605   2020-08-13 04:24:00     2020-08-13 04:24:00   2020-08-11 04:24:00   \n",
              "1606   2020-08-13 05:23:00     2020-08-13 05:43:00   2020-08-11 04:24:00   \n",
              "1607   2020-08-13 07:01:00     2020-08-13 07:01:00   2020-08-11 04:24:00   \n",
              "1608   2020-08-13 12:25:00     2020-08-13 12:25:00   2020-08-11 04:24:00   \n",
              "1609   2020-08-13 13:24:00     2020-08-13 16:30:00   2020-08-11 04:24:00   \n",
              "\n",
              "      train_arrival_date  \n",
              "1605 2020-08-13 13:24:00  \n",
              "1606 2020-08-13 13:24:00  \n",
              "1607 2020-08-13 13:24:00  \n",
              "1608 2020-08-13 13:24:00  \n",
              "1609 2020-08-13 13:24:00  "
            ],
            "text/html": [
              "\n",
              "  <div id=\"df-4ad19e77-4d44-4672-ac28-8d5baca93979\">\n",
              "    <div class=\"colab-df-container\">\n",
              "      <div>\n",
              "<style scoped>\n",
              "    .dataframe tbody tr th:only-of-type {\n",
              "        vertical-align: middle;\n",
              "    }\n",
              "\n",
              "    .dataframe tbody tr th {\n",
              "        vertical-align: top;\n",
              "    }\n",
              "\n",
              "    .dataframe thead th {\n",
              "        text-align: right;\n",
              "    }\n",
              "</style>\n",
              "<table border=\"1\" class=\"dataframe\">\n",
              "  <thead>\n",
              "    <tr style=\"text-align: right;\">\n",
              "      <th></th>\n",
              "      <th>sighting_location</th>\n",
              "      <th>sighting_location_lat</th>\n",
              "      <th>sighting_location_lon</th>\n",
              "      <th>location_arrival_date</th>\n",
              "      <th>location_departure_date</th>\n",
              "      <th>origin_departure_date</th>\n",
              "      <th>train_arrival_date</th>\n",
              "    </tr>\n",
              "  </thead>\n",
              "  <tbody>\n",
              "    <tr>\n",
              "      <th>1605</th>\n",
              "      <td>CLAPPER, MO</td>\n",
              "      <td>39.588213</td>\n",
              "      <td>-91.845766</td>\n",
              "      <td>2020-08-13 04:24:00</td>\n",
              "      <td>2020-08-13 04:24:00</td>\n",
              "      <td>2020-08-11 04:24:00</td>\n",
              "      <td>2020-08-13 13:24:00</td>\n",
              "    </tr>\n",
              "    <tr>\n",
              "      <th>1606</th>\n",
              "      <td>MOBERLY, MO</td>\n",
              "      <td>39.419797</td>\n",
              "      <td>-92.436711</td>\n",
              "      <td>2020-08-13 05:23:00</td>\n",
              "      <td>2020-08-13 05:43:00</td>\n",
              "      <td>2020-08-11 04:24:00</td>\n",
              "      <td>2020-08-13 13:24:00</td>\n",
              "    </tr>\n",
              "    <tr>\n",
              "      <th>1607</th>\n",
              "      <td>CLIFTON HILL, MO</td>\n",
              "      <td>39.438175</td>\n",
              "      <td>-92.665850</td>\n",
              "      <td>2020-08-13 07:01:00</td>\n",
              "      <td>2020-08-13 07:01:00</td>\n",
              "      <td>2020-08-11 04:24:00</td>\n",
              "      <td>2020-08-13 13:24:00</td>\n",
              "    </tr>\n",
              "    <tr>\n",
              "      <th>1608</th>\n",
              "      <td>MISSOURI CITY, MO</td>\n",
              "      <td>39.223788</td>\n",
              "      <td>-94.321008</td>\n",
              "      <td>2020-08-13 12:25:00</td>\n",
              "      <td>2020-08-13 12:25:00</td>\n",
              "      <td>2020-08-11 04:24:00</td>\n",
              "      <td>2020-08-13 13:24:00</td>\n",
              "    </tr>\n",
              "    <tr>\n",
              "      <th>1609</th>\n",
              "      <td>VOLTZ, MO</td>\n",
              "      <td>39.186341</td>\n",
              "      <td>-94.429775</td>\n",
              "      <td>2020-08-13 13:24:00</td>\n",
              "      <td>2020-08-13 16:30:00</td>\n",
              "      <td>2020-08-11 04:24:00</td>\n",
              "      <td>2020-08-13 13:24:00</td>\n",
              "    </tr>\n",
              "  </tbody>\n",
              "</table>\n",
              "</div>\n",
              "      <button class=\"colab-df-convert\" onclick=\"convertToInteractive('df-4ad19e77-4d44-4672-ac28-8d5baca93979')\"\n",
              "              title=\"Convert this dataframe to an interactive table.\"\n",
              "              style=\"display:none;\">\n",
              "        \n",
              "  <svg xmlns=\"http://www.w3.org/2000/svg\" height=\"24px\"viewBox=\"0 0 24 24\"\n",
              "       width=\"24px\">\n",
              "    <path d=\"M0 0h24v24H0V0z\" fill=\"none\"/>\n",
              "    <path d=\"M18.56 5.44l.94 2.06.94-2.06 2.06-.94-2.06-.94-.94-2.06-.94 2.06-2.06.94zm-11 1L8.5 8.5l.94-2.06 2.06-.94-2.06-.94L8.5 2.5l-.94 2.06-2.06.94zm10 10l.94 2.06.94-2.06 2.06-.94-2.06-.94-.94-2.06-.94 2.06-2.06.94z\"/><path d=\"M17.41 7.96l-1.37-1.37c-.4-.4-.92-.59-1.43-.59-.52 0-1.04.2-1.43.59L10.3 9.45l-7.72 7.72c-.78.78-.78 2.05 0 2.83L4 21.41c.39.39.9.59 1.41.59.51 0 1.02-.2 1.41-.59l7.78-7.78 2.81-2.81c.8-.78.8-2.07 0-2.86zM5.41 20L4 18.59l7.72-7.72 1.47 1.35L5.41 20z\"/>\n",
              "  </svg>\n",
              "      </button>\n",
              "      \n",
              "  <style>\n",
              "    .colab-df-container {\n",
              "      display:flex;\n",
              "      flex-wrap:wrap;\n",
              "      gap: 12px;\n",
              "    }\n",
              "\n",
              "    .colab-df-convert {\n",
              "      background-color: #E8F0FE;\n",
              "      border: none;\n",
              "      border-radius: 50%;\n",
              "      cursor: pointer;\n",
              "      display: none;\n",
              "      fill: #1967D2;\n",
              "      height: 32px;\n",
              "      padding: 0 0 0 0;\n",
              "      width: 32px;\n",
              "    }\n",
              "\n",
              "    .colab-df-convert:hover {\n",
              "      background-color: #E2EBFA;\n",
              "      box-shadow: 0px 1px 2px rgba(60, 64, 67, 0.3), 0px 1px 3px 1px rgba(60, 64, 67, 0.15);\n",
              "      fill: #174EA6;\n",
              "    }\n",
              "\n",
              "    [theme=dark] .colab-df-convert {\n",
              "      background-color: #3B4455;\n",
              "      fill: #D2E3FC;\n",
              "    }\n",
              "\n",
              "    [theme=dark] .colab-df-convert:hover {\n",
              "      background-color: #434B5C;\n",
              "      box-shadow: 0px 1px 3px 1px rgba(0, 0, 0, 0.15);\n",
              "      filter: drop-shadow(0px 1px 2px rgba(0, 0, 0, 0.3));\n",
              "      fill: #FFFFFF;\n",
              "    }\n",
              "  </style>\n",
              "\n",
              "      <script>\n",
              "        const buttonEl =\n",
              "          document.querySelector('#df-4ad19e77-4d44-4672-ac28-8d5baca93979 button.colab-df-convert');\n",
              "        buttonEl.style.display =\n",
              "          google.colab.kernel.accessAllowed ? 'block' : 'none';\n",
              "\n",
              "        async function convertToInteractive(key) {\n",
              "          const element = document.querySelector('#df-4ad19e77-4d44-4672-ac28-8d5baca93979');\n",
              "          const dataTable =\n",
              "            await google.colab.kernel.invokeFunction('convertToInteractive',\n",
              "                                                     [key], {});\n",
              "          if (!dataTable) return;\n",
              "\n",
              "          const docLinkHtml = 'Like what you see? Visit the ' +\n",
              "            '<a target=\"_blank\" href=https://colab.research.google.com/notebooks/data_table.ipynb>data table notebook</a>'\n",
              "            + ' to learn more about interactive tables.';\n",
              "          element.innerHTML = '';\n",
              "          dataTable['output_type'] = 'display_data';\n",
              "          await google.colab.output.renderOutput(dataTable, element);\n",
              "          const docLink = document.createElement('div');\n",
              "          docLink.innerHTML = docLinkHtml;\n",
              "          element.appendChild(docLink);\n",
              "        }\n",
              "      </script>\n",
              "    </div>\n",
              "  </div>\n",
              "  "
            ]
          },
          "metadata": {},
          "execution_count": 13
        }
      ]
    },
    {
      "cell_type": "code",
      "source": [
        "data.shape"
      ],
      "metadata": {
        "colab": {
          "base_uri": "https://localhost:8080/"
        },
        "id": "jPRYMw9on4sS",
        "outputId": "2d425fe4-301b-4783-caf1-47d123720e63"
      },
      "execution_count": 14,
      "outputs": [
        {
          "output_type": "execute_result",
          "data": {
            "text/plain": [
              "(1608, 7)"
            ]
          },
          "metadata": {},
          "execution_count": 14
        }
      ]
    },
    {
      "cell_type": "code",
      "source": [
        "data.info()"
      ],
      "metadata": {
        "colab": {
          "base_uri": "https://localhost:8080/"
        },
        "id": "0NYNH6jJlrhw",
        "outputId": "4c0381b9-9273-4c64-a5e2-b80ce8e0100f"
      },
      "execution_count": 15,
      "outputs": [
        {
          "output_type": "stream",
          "name": "stdout",
          "text": [
            "<class 'pandas.core.frame.DataFrame'>\n",
            "Int64Index: 1608 entries, 0 to 1609\n",
            "Data columns (total 7 columns):\n",
            " #   Column                   Non-Null Count  Dtype         \n",
            "---  ------                   --------------  -----         \n",
            " 0   sighting_location        1608 non-null   object        \n",
            " 1   sighting_location_lat    1608 non-null   float64       \n",
            " 2   sighting_location_lon    1608 non-null   float64       \n",
            " 3   location_arrival_date    1608 non-null   datetime64[ns]\n",
            " 4   location_departure_date  1608 non-null   datetime64[ns]\n",
            " 5   origin_departure_date    1608 non-null   datetime64[ns]\n",
            " 6   train_arrival_date       1608 non-null   datetime64[ns]\n",
            "dtypes: datetime64[ns](4), float64(2), object(1)\n",
            "memory usage: 100.5+ KB\n"
          ]
        }
      ]
    },
    {
      "cell_type": "code",
      "source": [
        ""
      ],
      "metadata": {
        "id": "mPBzoc6ICEe-"
      },
      "execution_count": 15,
      "outputs": []
    },
    {
      "cell_type": "markdown",
      "source": [
        "<h4> as we can see the data has no nulls and the data is datatime64 type "
      ],
      "metadata": {
        "id": "1HpXdUbfmJUY"
      }
    },
    {
      "cell_type": "code",
      "source": [
        "def getDeltaOfTiem(feature_from,feature_to):\n",
        "  data['Trip_time'] = (data[feature_from] - data[feature_to])\n",
        "\n",
        "  # create a column with timedelta as total hours, as a float type\n",
        "  data['tot_hour_diff'] = (data[feature_from] - data[feature_to]) / pd.Timedelta(hours=1)\n",
        "\n",
        "  # create a colume with timedelta as total minutes, as a float type\n",
        "  data['tot_mins_diff'] = (data[feature_from] - data[feature_to]) / pd.Timedelta(minutes=1)\n",
        "\n",
        "getDeltaOfTiem('train_arrival_date','origin_departure_date')"
      ],
      "metadata": {
        "id": "f616wx8yCE3o"
      },
      "execution_count": 16,
      "outputs": []
    },
    {
      "cell_type": "code",
      "source": [
        "data['Trip_time']"
      ],
      "metadata": {
        "colab": {
          "base_uri": "https://localhost:8080/"
        },
        "id": "pmUsbagTDeCv",
        "outputId": "7bc522b4-7768-4c6b-eaeb-9de6f98e37e7"
      },
      "execution_count": 17,
      "outputs": [
        {
          "output_type": "execute_result",
          "data": {
            "text/plain": [
              "0      2 days 16:53:00\n",
              "1      2 days 16:53:00\n",
              "2      2 days 16:53:00\n",
              "3      2 days 16:53:00\n",
              "4      2 days 16:53:00\n",
              "             ...      \n",
              "1605   2 days 09:00:00\n",
              "1606   2 days 09:00:00\n",
              "1607   2 days 09:00:00\n",
              "1608   2 days 09:00:00\n",
              "1609   2 days 09:00:00\n",
              "Name: Trip_time, Length: 1608, dtype: timedelta64[ns]"
            ]
          },
          "metadata": {},
          "execution_count": 17
        }
      ]
    },
    {
      "cell_type": "code",
      "source": [
        "def recreateTimeAndDateFeatures(Feature):\n",
        "  data['Y_'+Feature] = [d.year for d in data[Feature]]\n",
        "  data['M_'+Feature] = [d.month for d in data[Feature]]\n",
        "  data['D_'+Feature] = [d.day for d in data[Feature]]\n",
        "  data['H_'+Feature] = [d.hour for d in data[Feature]]\n",
        "  data['M_'+Feature] = [d.minute for d in data[Feature]]\n",
        "\n",
        "\n",
        "\n",
        "recreateTimeAndDateFeatures('location_arrival_date')\n",
        "recreateTimeAndDateFeatures('location_departure_date')\n",
        "recreateTimeAndDateFeatures('origin_departure_date')\n",
        "recreateTimeAndDateFeatures('train_arrival_date')\n",
        "data.drop(['location_arrival_date','location_departure_date','origin_departure_date','train_arrival_date'],inplace=True,axis=1)"
      ],
      "metadata": {
        "id": "9Vp85BZCmIO6"
      },
      "execution_count": 18,
      "outputs": []
    },
    {
      "cell_type": "code",
      "source": [
        "data.head()"
      ],
      "metadata": {
        "id": "Psnl08CYpLMl",
        "colab": {
          "base_uri": "https://localhost:8080/",
          "height": 386
        },
        "outputId": "94d62d57-a635-4ff8-a508-9c97a58df382"
      },
      "execution_count": 19,
      "outputs": [
        {
          "output_type": "execute_result",
          "data": {
            "text/plain": [
              "        sighting_location  sighting_location_lat  sighting_location_lon  \\\n",
              "0    STERLING HEIGHTS, MI              42.537908             -83.037650   \n",
              "1              WARREN, MI              42.499210             -83.037413   \n",
              "2    DETROIT STERLING, MI              42.572998             -83.040002   \n",
              "3  DETROIT NORTH YARD, MI              42.406106             -83.037049   \n",
              "4             OAKWOOD, MI              42.278053             -83.170834   \n",
              "\n",
              "        Trip_time  tot_hour_diff  tot_mins_diff  Y_location_arrival_date  \\\n",
              "0 2 days 16:53:00      64.883333         3893.0                     2021   \n",
              "1 2 days 16:53:00      64.883333         3893.0                     2021   \n",
              "2 2 days 16:53:00      64.883333         3893.0                     2021   \n",
              "3 2 days 16:53:00      64.883333         3893.0                     2021   \n",
              "4 2 days 16:53:00      64.883333         3893.0                     2021   \n",
              "\n",
              "   M_location_arrival_date  D_location_arrival_date  H_location_arrival_date  \\\n",
              "0                       28                       30                       19   \n",
              "1                       45                       30                       21   \n",
              "2                        0                        1                        0   \n",
              "3                       30                        1                       13   \n",
              "4                       17                        1                       18   \n",
              "\n",
              "   ...  D_location_departure_date  H_location_departure_date  \\\n",
              "0  ...                         30                         19   \n",
              "1  ...                         30                         21   \n",
              "2  ...                          1                         12   \n",
              "3  ...                          1                         15   \n",
              "4  ...                          1                         18   \n",
              "\n",
              "   Y_origin_departure_date  M_origin_departure_date  D_origin_departure_date  \\\n",
              "0                     2021                       28                       30   \n",
              "1                     2021                       28                       30   \n",
              "2                     2021                       28                       30   \n",
              "3                     2021                       28                       30   \n",
              "4                     2021                       28                       30   \n",
              "\n",
              "   H_origin_departure_date  Y_train_arrival_date  M_train_arrival_date  \\\n",
              "0                       19                  2021                    21   \n",
              "1                       19                  2021                    21   \n",
              "2                       19                  2021                    21   \n",
              "3                       19                  2021                    21   \n",
              "4                       19                  2021                    21   \n",
              "\n",
              "   D_train_arrival_date  H_train_arrival_date  \n",
              "0                     3                    12  \n",
              "1                     3                    12  \n",
              "2                     3                    12  \n",
              "3                     3                    12  \n",
              "4                     3                    12  \n",
              "\n",
              "[5 rows x 22 columns]"
            ],
            "text/html": [
              "\n",
              "  <div id=\"df-741ebaf1-51dc-4292-9d30-db1b77830835\">\n",
              "    <div class=\"colab-df-container\">\n",
              "      <div>\n",
              "<style scoped>\n",
              "    .dataframe tbody tr th:only-of-type {\n",
              "        vertical-align: middle;\n",
              "    }\n",
              "\n",
              "    .dataframe tbody tr th {\n",
              "        vertical-align: top;\n",
              "    }\n",
              "\n",
              "    .dataframe thead th {\n",
              "        text-align: right;\n",
              "    }\n",
              "</style>\n",
              "<table border=\"1\" class=\"dataframe\">\n",
              "  <thead>\n",
              "    <tr style=\"text-align: right;\">\n",
              "      <th></th>\n",
              "      <th>sighting_location</th>\n",
              "      <th>sighting_location_lat</th>\n",
              "      <th>sighting_location_lon</th>\n",
              "      <th>Trip_time</th>\n",
              "      <th>tot_hour_diff</th>\n",
              "      <th>tot_mins_diff</th>\n",
              "      <th>Y_location_arrival_date</th>\n",
              "      <th>M_location_arrival_date</th>\n",
              "      <th>D_location_arrival_date</th>\n",
              "      <th>H_location_arrival_date</th>\n",
              "      <th>...</th>\n",
              "      <th>D_location_departure_date</th>\n",
              "      <th>H_location_departure_date</th>\n",
              "      <th>Y_origin_departure_date</th>\n",
              "      <th>M_origin_departure_date</th>\n",
              "      <th>D_origin_departure_date</th>\n",
              "      <th>H_origin_departure_date</th>\n",
              "      <th>Y_train_arrival_date</th>\n",
              "      <th>M_train_arrival_date</th>\n",
              "      <th>D_train_arrival_date</th>\n",
              "      <th>H_train_arrival_date</th>\n",
              "    </tr>\n",
              "  </thead>\n",
              "  <tbody>\n",
              "    <tr>\n",
              "      <th>0</th>\n",
              "      <td>STERLING HEIGHTS, MI</td>\n",
              "      <td>42.537908</td>\n",
              "      <td>-83.037650</td>\n",
              "      <td>2 days 16:53:00</td>\n",
              "      <td>64.883333</td>\n",
              "      <td>3893.0</td>\n",
              "      <td>2021</td>\n",
              "      <td>28</td>\n",
              "      <td>30</td>\n",
              "      <td>19</td>\n",
              "      <td>...</td>\n",
              "      <td>30</td>\n",
              "      <td>19</td>\n",
              "      <td>2021</td>\n",
              "      <td>28</td>\n",
              "      <td>30</td>\n",
              "      <td>19</td>\n",
              "      <td>2021</td>\n",
              "      <td>21</td>\n",
              "      <td>3</td>\n",
              "      <td>12</td>\n",
              "    </tr>\n",
              "    <tr>\n",
              "      <th>1</th>\n",
              "      <td>WARREN, MI</td>\n",
              "      <td>42.499210</td>\n",
              "      <td>-83.037413</td>\n",
              "      <td>2 days 16:53:00</td>\n",
              "      <td>64.883333</td>\n",
              "      <td>3893.0</td>\n",
              "      <td>2021</td>\n",
              "      <td>45</td>\n",
              "      <td>30</td>\n",
              "      <td>21</td>\n",
              "      <td>...</td>\n",
              "      <td>30</td>\n",
              "      <td>21</td>\n",
              "      <td>2021</td>\n",
              "      <td>28</td>\n",
              "      <td>30</td>\n",
              "      <td>19</td>\n",
              "      <td>2021</td>\n",
              "      <td>21</td>\n",
              "      <td>3</td>\n",
              "      <td>12</td>\n",
              "    </tr>\n",
              "    <tr>\n",
              "      <th>2</th>\n",
              "      <td>DETROIT STERLING, MI</td>\n",
              "      <td>42.572998</td>\n",
              "      <td>-83.040002</td>\n",
              "      <td>2 days 16:53:00</td>\n",
              "      <td>64.883333</td>\n",
              "      <td>3893.0</td>\n",
              "      <td>2021</td>\n",
              "      <td>0</td>\n",
              "      <td>1</td>\n",
              "      <td>0</td>\n",
              "      <td>...</td>\n",
              "      <td>1</td>\n",
              "      <td>12</td>\n",
              "      <td>2021</td>\n",
              "      <td>28</td>\n",
              "      <td>30</td>\n",
              "      <td>19</td>\n",
              "      <td>2021</td>\n",
              "      <td>21</td>\n",
              "      <td>3</td>\n",
              "      <td>12</td>\n",
              "    </tr>\n",
              "    <tr>\n",
              "      <th>3</th>\n",
              "      <td>DETROIT NORTH YARD, MI</td>\n",
              "      <td>42.406106</td>\n",
              "      <td>-83.037049</td>\n",
              "      <td>2 days 16:53:00</td>\n",
              "      <td>64.883333</td>\n",
              "      <td>3893.0</td>\n",
              "      <td>2021</td>\n",
              "      <td>30</td>\n",
              "      <td>1</td>\n",
              "      <td>13</td>\n",
              "      <td>...</td>\n",
              "      <td>1</td>\n",
              "      <td>15</td>\n",
              "      <td>2021</td>\n",
              "      <td>28</td>\n",
              "      <td>30</td>\n",
              "      <td>19</td>\n",
              "      <td>2021</td>\n",
              "      <td>21</td>\n",
              "      <td>3</td>\n",
              "      <td>12</td>\n",
              "    </tr>\n",
              "    <tr>\n",
              "      <th>4</th>\n",
              "      <td>OAKWOOD, MI</td>\n",
              "      <td>42.278053</td>\n",
              "      <td>-83.170834</td>\n",
              "      <td>2 days 16:53:00</td>\n",
              "      <td>64.883333</td>\n",
              "      <td>3893.0</td>\n",
              "      <td>2021</td>\n",
              "      <td>17</td>\n",
              "      <td>1</td>\n",
              "      <td>18</td>\n",
              "      <td>...</td>\n",
              "      <td>1</td>\n",
              "      <td>18</td>\n",
              "      <td>2021</td>\n",
              "      <td>28</td>\n",
              "      <td>30</td>\n",
              "      <td>19</td>\n",
              "      <td>2021</td>\n",
              "      <td>21</td>\n",
              "      <td>3</td>\n",
              "      <td>12</td>\n",
              "    </tr>\n",
              "  </tbody>\n",
              "</table>\n",
              "<p>5 rows × 22 columns</p>\n",
              "</div>\n",
              "      <button class=\"colab-df-convert\" onclick=\"convertToInteractive('df-741ebaf1-51dc-4292-9d30-db1b77830835')\"\n",
              "              title=\"Convert this dataframe to an interactive table.\"\n",
              "              style=\"display:none;\">\n",
              "        \n",
              "  <svg xmlns=\"http://www.w3.org/2000/svg\" height=\"24px\"viewBox=\"0 0 24 24\"\n",
              "       width=\"24px\">\n",
              "    <path d=\"M0 0h24v24H0V0z\" fill=\"none\"/>\n",
              "    <path d=\"M18.56 5.44l.94 2.06.94-2.06 2.06-.94-2.06-.94-.94-2.06-.94 2.06-2.06.94zm-11 1L8.5 8.5l.94-2.06 2.06-.94-2.06-.94L8.5 2.5l-.94 2.06-2.06.94zm10 10l.94 2.06.94-2.06 2.06-.94-2.06-.94-.94-2.06-.94 2.06-2.06.94z\"/><path d=\"M17.41 7.96l-1.37-1.37c-.4-.4-.92-.59-1.43-.59-.52 0-1.04.2-1.43.59L10.3 9.45l-7.72 7.72c-.78.78-.78 2.05 0 2.83L4 21.41c.39.39.9.59 1.41.59.51 0 1.02-.2 1.41-.59l7.78-7.78 2.81-2.81c.8-.78.8-2.07 0-2.86zM5.41 20L4 18.59l7.72-7.72 1.47 1.35L5.41 20z\"/>\n",
              "  </svg>\n",
              "      </button>\n",
              "      \n",
              "  <style>\n",
              "    .colab-df-container {\n",
              "      display:flex;\n",
              "      flex-wrap:wrap;\n",
              "      gap: 12px;\n",
              "    }\n",
              "\n",
              "    .colab-df-convert {\n",
              "      background-color: #E8F0FE;\n",
              "      border: none;\n",
              "      border-radius: 50%;\n",
              "      cursor: pointer;\n",
              "      display: none;\n",
              "      fill: #1967D2;\n",
              "      height: 32px;\n",
              "      padding: 0 0 0 0;\n",
              "      width: 32px;\n",
              "    }\n",
              "\n",
              "    .colab-df-convert:hover {\n",
              "      background-color: #E2EBFA;\n",
              "      box-shadow: 0px 1px 2px rgba(60, 64, 67, 0.3), 0px 1px 3px 1px rgba(60, 64, 67, 0.15);\n",
              "      fill: #174EA6;\n",
              "    }\n",
              "\n",
              "    [theme=dark] .colab-df-convert {\n",
              "      background-color: #3B4455;\n",
              "      fill: #D2E3FC;\n",
              "    }\n",
              "\n",
              "    [theme=dark] .colab-df-convert:hover {\n",
              "      background-color: #434B5C;\n",
              "      box-shadow: 0px 1px 3px 1px rgba(0, 0, 0, 0.15);\n",
              "      filter: drop-shadow(0px 1px 2px rgba(0, 0, 0, 0.3));\n",
              "      fill: #FFFFFF;\n",
              "    }\n",
              "  </style>\n",
              "\n",
              "      <script>\n",
              "        const buttonEl =\n",
              "          document.querySelector('#df-741ebaf1-51dc-4292-9d30-db1b77830835 button.colab-df-convert');\n",
              "        buttonEl.style.display =\n",
              "          google.colab.kernel.accessAllowed ? 'block' : 'none';\n",
              "\n",
              "        async function convertToInteractive(key) {\n",
              "          const element = document.querySelector('#df-741ebaf1-51dc-4292-9d30-db1b77830835');\n",
              "          const dataTable =\n",
              "            await google.colab.kernel.invokeFunction('convertToInteractive',\n",
              "                                                     [key], {});\n",
              "          if (!dataTable) return;\n",
              "\n",
              "          const docLinkHtml = 'Like what you see? Visit the ' +\n",
              "            '<a target=\"_blank\" href=https://colab.research.google.com/notebooks/data_table.ipynb>data table notebook</a>'\n",
              "            + ' to learn more about interactive tables.';\n",
              "          element.innerHTML = '';\n",
              "          dataTable['output_type'] = 'display_data';\n",
              "          await google.colab.output.renderOutput(dataTable, element);\n",
              "          const docLink = document.createElement('div');\n",
              "          docLink.innerHTML = docLinkHtml;\n",
              "          element.appendChild(docLink);\n",
              "        }\n",
              "      </script>\n",
              "    </div>\n",
              "  </div>\n",
              "  "
            ]
          },
          "metadata": {},
          "execution_count": 19
        }
      ]
    },
    {
      "cell_type": "code",
      "source": [
        "data.info()"
      ],
      "metadata": {
        "id": "uEiccIf_qYXE",
        "colab": {
          "base_uri": "https://localhost:8080/"
        },
        "outputId": "5ccb7dd5-d541-4ba3-ff1f-3b3ace288306"
      },
      "execution_count": 20,
      "outputs": [
        {
          "output_type": "stream",
          "name": "stdout",
          "text": [
            "<class 'pandas.core.frame.DataFrame'>\n",
            "Int64Index: 1608 entries, 0 to 1609\n",
            "Data columns (total 22 columns):\n",
            " #   Column                     Non-Null Count  Dtype          \n",
            "---  ------                     --------------  -----          \n",
            " 0   sighting_location          1608 non-null   object         \n",
            " 1   sighting_location_lat      1608 non-null   float64        \n",
            " 2   sighting_location_lon      1608 non-null   float64        \n",
            " 3   Trip_time                  1608 non-null   timedelta64[ns]\n",
            " 4   tot_hour_diff              1608 non-null   float64        \n",
            " 5   tot_mins_diff              1608 non-null   float64        \n",
            " 6   Y_location_arrival_date    1608 non-null   int64          \n",
            " 7   M_location_arrival_date    1608 non-null   int64          \n",
            " 8   D_location_arrival_date    1608 non-null   int64          \n",
            " 9   H_location_arrival_date    1608 non-null   int64          \n",
            " 10  Y_location_departure_date  1608 non-null   int64          \n",
            " 11  M_location_departure_date  1608 non-null   int64          \n",
            " 12  D_location_departure_date  1608 non-null   int64          \n",
            " 13  H_location_departure_date  1608 non-null   int64          \n",
            " 14  Y_origin_departure_date    1608 non-null   int64          \n",
            " 15  M_origin_departure_date    1608 non-null   int64          \n",
            " 16  D_origin_departure_date    1608 non-null   int64          \n",
            " 17  H_origin_departure_date    1608 non-null   int64          \n",
            " 18  Y_train_arrival_date       1608 non-null   int64          \n",
            " 19  M_train_arrival_date       1608 non-null   int64          \n",
            " 20  D_train_arrival_date       1608 non-null   int64          \n",
            " 21  H_train_arrival_date       1608 non-null   int64          \n",
            "dtypes: float64(4), int64(16), object(1), timedelta64[ns](1)\n",
            "memory usage: 288.9+ KB\n"
          ]
        }
      ]
    },
    {
      "cell_type": "code",
      "source": [
        "\n",
        "\n",
        "\n"
      ],
      "metadata": {
        "id": "HFrTnpAr_sQs"
      },
      "execution_count": 20,
      "outputs": []
    },
    {
      "cell_type": "markdown",
      "source": [
        "<h1> Visualization⌛"
      ],
      "metadata": {
        "id": "XgAEDllXuO4U"
      }
    },
    {
      "cell_type": "code",
      "source": [
        "import seaborn as sns"
      ],
      "metadata": {
        "id": "o3DepGGquOsk"
      },
      "execution_count": 21,
      "outputs": []
    },
    {
      "cell_type": "code",
      "source": [
        "\n",
        "sns.displot(data=data, x=\"Y_origin_departure_date\", kind=\"kde\")"
      ],
      "metadata": {
        "id": "wI-bV4txuMZe",
        "colab": {
          "base_uri": "https://localhost:8080/",
          "height": 386
        },
        "outputId": "9ae2be8a-84ef-490a-81f5-71a1f8c77f36"
      },
      "execution_count": 22,
      "outputs": [
        {
          "output_type": "execute_result",
          "data": {
            "text/plain": [
              "<seaborn.axisgrid.FacetGrid at 0x7f2844d3fd50>"
            ]
          },
          "metadata": {},
          "execution_count": 22
        },
        {
          "output_type": "display_data",
          "data": {
            "text/plain": [
              "<Figure size 360x360 with 1 Axes>"
            ],
            "image/png": "[encoded data removed]"
          },
          "metadata": {
            "needs_background": "light"
          }
        }
      ]
    },
    {
      "cell_type": "code",
      "source": [
        "\n",
        "sns.displot(data=data, x=\"D_origin_departure_date\")\n",
        "sns.displot(data=data, x=\"D_train_arrival_date\")\n"
      ],
      "metadata": {
        "id": "0qWsHNc1uFbY",
        "colab": {
          "base_uri": "https://localhost:8080/",
          "height": 738
        },
        "outputId": "ef91efee-d307-463e-ef91-328cbba1af55"
      },
      "execution_count": 23,
      "outputs": [
        {
          "output_type": "execute_result",
          "data": {
            "text/plain": [
              "<seaborn.axisgrid.FacetGrid at 0x7f283f80f450>"
            ]
          },
          "metadata": {},
          "execution_count": 23
        },
        {
          "output_type": "display_data",
          "data": {
            "text/plain": [
              "<Figure size 360x360 with 1 Axes>"
            ],
            "image/png": "[encoded data removed]"
          },
          "metadata": {
            "needs_background": "light"
          }
        },
        {
          "output_type": "display_data",
          "data": {
            "text/plain": [
              "<Figure size 360x360 with 1 Axes>"
            ],
            "image/png": "[encoded data removed]"
          },
          "metadata": {
            "needs_background": "light"
          }
        }
      ]
    },
    {
      "cell_type": "code",
      "source": [
        "sns.histplot(data=data,x='H_train_arrival_date',y='D_train_arrival_date')"
      ],
      "metadata": {
        "id": "fu-AaraO-qcw",
        "colab": {
          "base_uri": "https://localhost:8080/",
          "height": 298
        },
        "outputId": "0379f06f-352b-461e-ec50-77e1337c0c49"
      },
      "execution_count": 24,
      "outputs": [
        {
          "output_type": "execute_result",
          "data": {
            "text/plain": [
              "<matplotlib.axes._subplots.AxesSubplot at 0x7f283f79b8d0>"
            ]
          },
          "metadata": {},
          "execution_count": 24
        },
        {
          "output_type": "display_data",
          "data": {
            "text/plain": [
              "<Figure size 432x288 with 1 Axes>"
            ],
            "image/png": "[encoded data removed]"
          },
          "metadata": {
            "needs_background": "light"
          }
        }
      ]
    },
    {
      "cell_type": "code",
      "source": [
        "sns.displot(data=data, x=\"H_origin_departure_date\")\n",
        "sns.displot(data=data, x=\"H_train_arrival_date\")"
      ],
      "metadata": {
        "id": "emWtGlZV_ZT1",
        "colab": {
          "base_uri": "https://localhost:8080/",
          "height": 738
        },
        "outputId": "d7166c4b-3401-4423-af22-14ac6248073b"
      },
      "execution_count": 25,
      "outputs": [
        {
          "output_type": "execute_result",
          "data": {
            "text/plain": [
              "<seaborn.axisgrid.FacetGrid at 0x7f283f687950>"
            ]
          },
          "metadata": {},
          "execution_count": 25
        },
        {
          "output_type": "display_data",
          "data": {
            "text/plain": [
              "<Figure size 360x360 with 1 Axes>"
            ],
            "image/png": "[encoded data removed]"
          },
          "metadata": {
            "needs_background": "light"
          }
        },
        {
          "output_type": "display_data",
          "data": {
            "text/plain": [
              "<Figure size 360x360 with 1 Axes>"
            ],
            "image/png": "[encoded data removed]"
          },
          "metadata": {
            "needs_background": "light"
          }
        }
      ]
    },
    {
      "cell_type": "code",
      "source": [
        "sns.displot(data=data, x=\"M_origin_departure_date\")\n",
        "sns.displot(data=data, x=\"M_train_arrival_date\")"
      ],
      "metadata": {
        "id": "61Yr5stu_jft",
        "colab": {
          "base_uri": "https://localhost:8080/",
          "height": 738
        },
        "outputId": "54bca34d-b433-41de-a7b3-879ea2bb1958"
      },
      "execution_count": 26,
      "outputs": [
        {
          "output_type": "execute_result",
          "data": {
            "text/plain": [
              "<seaborn.axisgrid.FacetGrid at 0x7f283f510c90>"
            ]
          },
          "metadata": {},
          "execution_count": 26
        },
        {
          "output_type": "display_data",
          "data": {
            "text/plain": [
              "<Figure size 360x360 with 1 Axes>"
            ],
            "image/png": "[encoded data removed]"
          },
          "metadata": {
            "needs_background": "light"
          }
        },
        {
          "output_type": "display_data",
          "data": {
            "text/plain": [
              "<Figure size 360x360 with 1 Axes>"
            ],
            "image/png": "[encoded data removed]"
          },
          "metadata": {
            "needs_background": "light"
          }
        }
      ]
    }
  ]
}